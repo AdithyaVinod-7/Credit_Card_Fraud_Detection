{
  "cells": [
    {
      "cell_type": "code",
      "execution_count": null,
      "metadata": {
        "colab": {
          "base_uri": "https://localhost:8080/"
        },
        "id": "0dzbu4bzNSJT",
        "outputId": "7b8df154-c824-4c65-f90a-9291384846a5"
      },
      "outputs": [
        {
          "output_type": "stream",
          "name": "stdout",
          "text": [
            "Looking in indexes: https://pypi.org/simple, https://us-python.pkg.dev/colab-wheels/public/simple/\n",
            "Collecting diptest\n",
            "  Downloading diptest-0.5.1-cp37-cp37m-manylinux_2_17_x86_64.manylinux2014_x86_64.whl (119 kB)\n",
            "\u001b[K     |████████████████████████████████| 119 kB 23.8 MB/s \n",
            "\u001b[?25hRequirement already satisfied: psutil in /usr/local/lib/python3.7/dist-packages (from diptest) (5.4.8)\n",
            "Requirement already satisfied: numpy>=1.18 in /usr/local/lib/python3.7/dist-packages (from diptest) (1.21.6)\n",
            "Installing collected packages: diptest\n",
            "Successfully installed diptest-0.5.1\n",
            "Looking in indexes: https://pypi.org/simple, https://us-python.pkg.dev/colab-wheels/public/simple/\n",
            "Collecting boruta\n",
            "  Downloading Boruta-0.3-py3-none-any.whl (56 kB)\n",
            "\u001b[K     |████████████████████████████████| 56 kB 4.3 MB/s \n",
            "\u001b[?25hRequirement already satisfied: scipy>=0.17.0 in /usr/local/lib/python3.7/dist-packages (from boruta) (1.7.3)\n",
            "Requirement already satisfied: scikit-learn>=0.17.1 in /usr/local/lib/python3.7/dist-packages (from boruta) (1.0.2)\n",
            "Requirement already satisfied: numpy>=1.10.4 in /usr/local/lib/python3.7/dist-packages (from boruta) (1.21.6)\n",
            "Requirement already satisfied: threadpoolctl>=2.0.0 in /usr/local/lib/python3.7/dist-packages (from scikit-learn>=0.17.1->boruta) (3.1.0)\n",
            "Requirement already satisfied: joblib>=0.11 in /usr/local/lib/python3.7/dist-packages (from scikit-learn>=0.17.1->boruta) (1.2.0)\n",
            "Installing collected packages: boruta\n",
            "Successfully installed boruta-0.3\n"
          ]
        }
      ],
      "source": [
        "#imports \n",
        "import pandas as pd\n",
        "import numpy as np\n",
        "import datetime\n",
        "import geopy.distance\n",
        "import seaborn as sns\n",
        "from scipy.stats import shapiro\n",
        "from scipy.stats import skew\n",
        "from scipy import stats\n",
        "from scipy.stats import boxcox\n",
        "import matplotlib.pyplot as plt\n",
        "!pip install diptest\n",
        "!pip install boruta\n",
        "import diptest\n",
        "from sklearn.utils.validation import column_or_1d\n",
        "from sklearn.ensemble import RandomForestClassifier\n",
        "from boruta import BorutaPy\n",
        "from collections import OrderedDict\n",
        "import csv\n",
        "import imblearn\n",
        "from imblearn.over_sampling import SMOTE,SMOTENC\n",
        "\n",
        "\n"
      ]
    },
    {
      "cell_type": "code",
      "execution_count": null,
      "metadata": {
        "colab": {
          "base_uri": "https://localhost:8080/"
        },
        "id": "40G6thV89kA6",
        "outputId": "fc201611-f35f-4780-faa3-e504dce9135a"
      },
      "outputs": [
        {
          "output_type": "stream",
          "name": "stdout",
          "text": [
            "   Unnamed: 0 trans_date_trans_time            cc_num  \\\n",
            "0           0   2020-06-21 12:14:25  2291163933867244   \n",
            "1           1   2020-06-21 12:14:33  3573030041201292   \n",
            "2           2   2020-06-21 12:14:53  3598215285024754   \n",
            "3           3   2020-06-21 12:15:15  3591919803438423   \n",
            "4           4   2020-06-21 12:15:17  3526826139003047   \n",
            "\n",
            "                               merchant        category    amt   first  \\\n",
            "0                 fraud_Kirlin and Sons   personal_care   2.86    Jeff   \n",
            "1                  fraud_Sporer-Keebler   personal_care  29.84  Joanne   \n",
            "2  fraud_Swaniawski, Nitzsche and Welch  health_fitness  41.28  Ashley   \n",
            "3                     fraud_Haley Group        misc_pos  60.05   Brian   \n",
            "4                 fraud_Johnston-Casper          travel   3.19  Nathan   \n",
            "\n",
            "       last gender                       street  ...      lat      long  \\\n",
            "0   Elliott      M            351 Darlene Green  ...  33.9659  -80.9355   \n",
            "1  Williams      F             3638 Marsh Union  ...  40.3207 -110.4360   \n",
            "2     Lopez      F         9333 Valentine Point  ...  40.6729  -73.5365   \n",
            "3  Williams      M  32941 Krystal Mill Apt. 552  ...  28.5697  -80.8191   \n",
            "4    Massey      M     5783 Evan Roads Apt. 465  ...  44.2529  -85.0170   \n",
            "\n",
            "   city_pop                     job         dob  \\\n",
            "0    333497     Mechanical engineer  1968-03-19   \n",
            "1       302  Sales professional, IT  1990-01-17   \n",
            "2     34496       Librarian, public  1970-10-21   \n",
            "3     54767            Set designer  1987-07-25   \n",
            "4      1126      Furniture designer  1955-07-06   \n",
            "\n",
            "                          trans_num   unix_time  merch_lat  merch_long  \\\n",
            "0  2da90c7d74bd46a0caf3777415b3ebd3  1371816865  33.986391  -81.200714   \n",
            "1  324cc204407e99f51b0d6ca0055005e7  1371816873  39.450498 -109.960431   \n",
            "2  c81755dbbbea9d5c77f094348a7579be  1371816893  40.495810  -74.196111   \n",
            "3  2159175b9efe66dc301f149d3d5abf8c  1371816915  28.812398  -80.883061   \n",
            "4  57ff021bd3f328f8738bb535c302a31b  1371816917  44.959148  -85.884734   \n",
            "\n",
            "   is_fraud  \n",
            "0         0  \n",
            "1         0  \n",
            "2         0  \n",
            "3         0  \n",
            "4         0  \n",
            "\n",
            "[5 rows x 23 columns]\n"
          ]
        }
      ],
      "source": [
        "df = pd.read_csv('fraudTest.csv')\n",
        "print(df.head())\n",
        "#df.describe()"
      ]
    },
    {
      "cell_type": "code",
      "execution_count": null,
      "metadata": {
        "colab": {
          "base_uri": "https://localhost:8080/"
        },
        "id": "7r96gqbI9_yo",
        "outputId": "4165d903-6afc-486f-942d-9419d9cf17e1"
      },
      "outputs": [
        {
          "output_type": "execute_result",
          "data": {
            "text/plain": [
              "Index(['Unnamed: 0', 'trans_date_trans_time', 'cc_num', 'merchant', 'category',\n",
              "       'amt', 'first', 'last', 'gender', 'street', 'city', 'state', 'zip',\n",
              "       'lat', 'long', 'city_pop', 'job', 'dob', 'trans_num', 'unix_time',\n",
              "       'merch_lat', 'merch_long', 'is_fraud'],\n",
              "      dtype='object')"
            ]
          },
          "metadata": {},
          "execution_count": 3
        }
      ],
      "source": [
        "df.columns"
      ]
    },
    {
      "cell_type": "code",
      "execution_count": null,
      "metadata": {
        "colab": {
          "base_uri": "https://localhost:8080/",
          "height": 518
        },
        "id": "wnrtKFw0vQnD",
        "outputId": "284a71d9-044c-4b1b-b43c-694fefd92d6b"
      },
      "outputs": [
        {
          "output_type": "execute_result",
          "data": {
            "text/plain": [
              "   Unnamed: 0 trans_date_trans_time            cc_num  \\\n",
              "0           0   2020-06-21 12:14:25  2291163933867244   \n",
              "1           1   2020-06-21 12:14:33  3573030041201292   \n",
              "2           2   2020-06-21 12:14:53  3598215285024754   \n",
              "3           3   2020-06-21 12:15:15  3591919803438423   \n",
              "4           4   2020-06-21 12:15:17  3526826139003047   \n",
              "\n",
              "                               merchant        category    amt   first  \\\n",
              "0                 fraud_Kirlin and Sons   personal_care   2.86    Jeff   \n",
              "1                  fraud_Sporer-Keebler   personal_care  29.84  Joanne   \n",
              "2  fraud_Swaniawski, Nitzsche and Welch  health_fitness  41.28  Ashley   \n",
              "3                     fraud_Haley Group        misc_pos  60.05   Brian   \n",
              "4                 fraud_Johnston-Casper          travel   3.19  Nathan   \n",
              "\n",
              "       last gender                       street  ...      lat      long  \\\n",
              "0   Elliott      M            351 Darlene Green  ...  33.9659  -80.9355   \n",
              "1  Williams      F             3638 Marsh Union  ...  40.3207 -110.4360   \n",
              "2     Lopez      F         9333 Valentine Point  ...  40.6729  -73.5365   \n",
              "3  Williams      M  32941 Krystal Mill Apt. 552  ...  28.5697  -80.8191   \n",
              "4    Massey      M     5783 Evan Roads Apt. 465  ...  44.2529  -85.0170   \n",
              "\n",
              "   city_pop                     job         dob  \\\n",
              "0    333497     Mechanical engineer  1968-03-19   \n",
              "1       302  Sales professional, IT  1990-01-17   \n",
              "2     34496       Librarian, public  1970-10-21   \n",
              "3     54767            Set designer  1987-07-25   \n",
              "4      1126      Furniture designer  1955-07-06   \n",
              "\n",
              "                          trans_num   unix_time  merch_lat  merch_long  \\\n",
              "0  2da90c7d74bd46a0caf3777415b3ebd3  1371816865  33.986391  -81.200714   \n",
              "1  324cc204407e99f51b0d6ca0055005e7  1371816873  39.450498 -109.960431   \n",
              "2  c81755dbbbea9d5c77f094348a7579be  1371816893  40.495810  -74.196111   \n",
              "3  2159175b9efe66dc301f149d3d5abf8c  1371816915  28.812398  -80.883061   \n",
              "4  57ff021bd3f328f8738bb535c302a31b  1371816917  44.959148  -85.884734   \n",
              "\n",
              "   is_fraud  \n",
              "0         0  \n",
              "1         0  \n",
              "2         0  \n",
              "3         0  \n",
              "4         0  \n",
              "\n",
              "[5 rows x 23 columns]"
            ],
            "text/html": [
              "\n",
              "  <div id=\"df-b2583722-9c3e-4404-b513-fc973a700e7f\">\n",
              "    <div class=\"colab-df-container\">\n",
              "      <div>\n",
              "<style scoped>\n",
              "    .dataframe tbody tr th:only-of-type {\n",
              "        vertical-align: middle;\n",
              "    }\n",
              "\n",
              "    .dataframe tbody tr th {\n",
              "        vertical-align: top;\n",
              "    }\n",
              "\n",
              "    .dataframe thead th {\n",
              "        text-align: right;\n",
              "    }\n",
              "</style>\n",
              "<table border=\"1\" class=\"dataframe\">\n",
              "  <thead>\n",
              "    <tr style=\"text-align: right;\">\n",
              "      <th></th>\n",
              "      <th>Unnamed: 0</th>\n",
              "      <th>trans_date_trans_time</th>\n",
              "      <th>cc_num</th>\n",
              "      <th>merchant</th>\n",
              "      <th>category</th>\n",
              "      <th>amt</th>\n",
              "      <th>first</th>\n",
              "      <th>last</th>\n",
              "      <th>gender</th>\n",
              "      <th>street</th>\n",
              "      <th>...</th>\n",
              "      <th>lat</th>\n",
              "      <th>long</th>\n",
              "      <th>city_pop</th>\n",
              "      <th>job</th>\n",
              "      <th>dob</th>\n",
              "      <th>trans_num</th>\n",
              "      <th>unix_time</th>\n",
              "      <th>merch_lat</th>\n",
              "      <th>merch_long</th>\n",
              "      <th>is_fraud</th>\n",
              "    </tr>\n",
              "  </thead>\n",
              "  <tbody>\n",
              "    <tr>\n",
              "      <th>0</th>\n",
              "      <td>0</td>\n",
              "      <td>2020-06-21 12:14:25</td>\n",
              "      <td>2291163933867244</td>\n",
              "      <td>fraud_Kirlin and Sons</td>\n",
              "      <td>personal_care</td>\n",
              "      <td>2.86</td>\n",
              "      <td>Jeff</td>\n",
              "      <td>Elliott</td>\n",
              "      <td>M</td>\n",
              "      <td>351 Darlene Green</td>\n",
              "      <td>...</td>\n",
              "      <td>33.9659</td>\n",
              "      <td>-80.9355</td>\n",
              "      <td>333497</td>\n",
              "      <td>Mechanical engineer</td>\n",
              "      <td>1968-03-19</td>\n",
              "      <td>2da90c7d74bd46a0caf3777415b3ebd3</td>\n",
              "      <td>1371816865</td>\n",
              "      <td>33.986391</td>\n",
              "      <td>-81.200714</td>\n",
              "      <td>0</td>\n",
              "    </tr>\n",
              "    <tr>\n",
              "      <th>1</th>\n",
              "      <td>1</td>\n",
              "      <td>2020-06-21 12:14:33</td>\n",
              "      <td>3573030041201292</td>\n",
              "      <td>fraud_Sporer-Keebler</td>\n",
              "      <td>personal_care</td>\n",
              "      <td>29.84</td>\n",
              "      <td>Joanne</td>\n",
              "      <td>Williams</td>\n",
              "      <td>F</td>\n",
              "      <td>3638 Marsh Union</td>\n",
              "      <td>...</td>\n",
              "      <td>40.3207</td>\n",
              "      <td>-110.4360</td>\n",
              "      <td>302</td>\n",
              "      <td>Sales professional, IT</td>\n",
              "      <td>1990-01-17</td>\n",
              "      <td>324cc204407e99f51b0d6ca0055005e7</td>\n",
              "      <td>1371816873</td>\n",
              "      <td>39.450498</td>\n",
              "      <td>-109.960431</td>\n",
              "      <td>0</td>\n",
              "    </tr>\n",
              "    <tr>\n",
              "      <th>2</th>\n",
              "      <td>2</td>\n",
              "      <td>2020-06-21 12:14:53</td>\n",
              "      <td>3598215285024754</td>\n",
              "      <td>fraud_Swaniawski, Nitzsche and Welch</td>\n",
              "      <td>health_fitness</td>\n",
              "      <td>41.28</td>\n",
              "      <td>Ashley</td>\n",
              "      <td>Lopez</td>\n",
              "      <td>F</td>\n",
              "      <td>9333 Valentine Point</td>\n",
              "      <td>...</td>\n",
              "      <td>40.6729</td>\n",
              "      <td>-73.5365</td>\n",
              "      <td>34496</td>\n",
              "      <td>Librarian, public</td>\n",
              "      <td>1970-10-21</td>\n",
              "      <td>c81755dbbbea9d5c77f094348a7579be</td>\n",
              "      <td>1371816893</td>\n",
              "      <td>40.495810</td>\n",
              "      <td>-74.196111</td>\n",
              "      <td>0</td>\n",
              "    </tr>\n",
              "    <tr>\n",
              "      <th>3</th>\n",
              "      <td>3</td>\n",
              "      <td>2020-06-21 12:15:15</td>\n",
              "      <td>3591919803438423</td>\n",
              "      <td>fraud_Haley Group</td>\n",
              "      <td>misc_pos</td>\n",
              "      <td>60.05</td>\n",
              "      <td>Brian</td>\n",
              "      <td>Williams</td>\n",
              "      <td>M</td>\n",
              "      <td>32941 Krystal Mill Apt. 552</td>\n",
              "      <td>...</td>\n",
              "      <td>28.5697</td>\n",
              "      <td>-80.8191</td>\n",
              "      <td>54767</td>\n",
              "      <td>Set designer</td>\n",
              "      <td>1987-07-25</td>\n",
              "      <td>2159175b9efe66dc301f149d3d5abf8c</td>\n",
              "      <td>1371816915</td>\n",
              "      <td>28.812398</td>\n",
              "      <td>-80.883061</td>\n",
              "      <td>0</td>\n",
              "    </tr>\n",
              "    <tr>\n",
              "      <th>4</th>\n",
              "      <td>4</td>\n",
              "      <td>2020-06-21 12:15:17</td>\n",
              "      <td>3526826139003047</td>\n",
              "      <td>fraud_Johnston-Casper</td>\n",
              "      <td>travel</td>\n",
              "      <td>3.19</td>\n",
              "      <td>Nathan</td>\n",
              "      <td>Massey</td>\n",
              "      <td>M</td>\n",
              "      <td>5783 Evan Roads Apt. 465</td>\n",
              "      <td>...</td>\n",
              "      <td>44.2529</td>\n",
              "      <td>-85.0170</td>\n",
              "      <td>1126</td>\n",
              "      <td>Furniture designer</td>\n",
              "      <td>1955-07-06</td>\n",
              "      <td>57ff021bd3f328f8738bb535c302a31b</td>\n",
              "      <td>1371816917</td>\n",
              "      <td>44.959148</td>\n",
              "      <td>-85.884734</td>\n",
              "      <td>0</td>\n",
              "    </tr>\n",
              "  </tbody>\n",
              "</table>\n",
              "<p>5 rows × 23 columns</p>\n",
              "</div>\n",
              "      <button class=\"colab-df-convert\" onclick=\"convertToInteractive('df-b2583722-9c3e-4404-b513-fc973a700e7f')\"\n",
              "              title=\"Convert this dataframe to an interactive table.\"\n",
              "              style=\"display:none;\">\n",
              "        \n",
              "  <svg xmlns=\"http://www.w3.org/2000/svg\" height=\"24px\"viewBox=\"0 0 24 24\"\n",
              "       width=\"24px\">\n",
              "    <path d=\"M0 0h24v24H0V0z\" fill=\"none\"/>\n",
              "    <path d=\"M18.56 5.44l.94 2.06.94-2.06 2.06-.94-2.06-.94-.94-2.06-.94 2.06-2.06.94zm-11 1L8.5 8.5l.94-2.06 2.06-.94-2.06-.94L8.5 2.5l-.94 2.06-2.06.94zm10 10l.94 2.06.94-2.06 2.06-.94-2.06-.94-.94-2.06-.94 2.06-2.06.94z\"/><path d=\"M17.41 7.96l-1.37-1.37c-.4-.4-.92-.59-1.43-.59-.52 0-1.04.2-1.43.59L10.3 9.45l-7.72 7.72c-.78.78-.78 2.05 0 2.83L4 21.41c.39.39.9.59 1.41.59.51 0 1.02-.2 1.41-.59l7.78-7.78 2.81-2.81c.8-.78.8-2.07 0-2.86zM5.41 20L4 18.59l7.72-7.72 1.47 1.35L5.41 20z\"/>\n",
              "  </svg>\n",
              "      </button>\n",
              "      \n",
              "  <style>\n",
              "    .colab-df-container {\n",
              "      display:flex;\n",
              "      flex-wrap:wrap;\n",
              "      gap: 12px;\n",
              "    }\n",
              "\n",
              "    .colab-df-convert {\n",
              "      background-color: #E8F0FE;\n",
              "      border: none;\n",
              "      border-radius: 50%;\n",
              "      cursor: pointer;\n",
              "      display: none;\n",
              "      fill: #1967D2;\n",
              "      height: 32px;\n",
              "      padding: 0 0 0 0;\n",
              "      width: 32px;\n",
              "    }\n",
              "\n",
              "    .colab-df-convert:hover {\n",
              "      background-color: #E2EBFA;\n",
              "      box-shadow: 0px 1px 2px rgba(60, 64, 67, 0.3), 0px 1px 3px 1px rgba(60, 64, 67, 0.15);\n",
              "      fill: #174EA6;\n",
              "    }\n",
              "\n",
              "    [theme=dark] .colab-df-convert {\n",
              "      background-color: #3B4455;\n",
              "      fill: #D2E3FC;\n",
              "    }\n",
              "\n",
              "    [theme=dark] .colab-df-convert:hover {\n",
              "      background-color: #434B5C;\n",
              "      box-shadow: 0px 1px 3px 1px rgba(0, 0, 0, 0.15);\n",
              "      filter: drop-shadow(0px 1px 2px rgba(0, 0, 0, 0.3));\n",
              "      fill: #FFFFFF;\n",
              "    }\n",
              "  </style>\n",
              "\n",
              "      <script>\n",
              "        const buttonEl =\n",
              "          document.querySelector('#df-b2583722-9c3e-4404-b513-fc973a700e7f button.colab-df-convert');\n",
              "        buttonEl.style.display =\n",
              "          google.colab.kernel.accessAllowed ? 'block' : 'none';\n",
              "\n",
              "        async function convertToInteractive(key) {\n",
              "          const element = document.querySelector('#df-b2583722-9c3e-4404-b513-fc973a700e7f');\n",
              "          const dataTable =\n",
              "            await google.colab.kernel.invokeFunction('convertToInteractive',\n",
              "                                                     [key], {});\n",
              "          if (!dataTable) return;\n",
              "\n",
              "          const docLinkHtml = 'Like what you see? Visit the ' +\n",
              "            '<a target=\"_blank\" href=https://colab.research.google.com/notebooks/data_table.ipynb>data table notebook</a>'\n",
              "            + ' to learn more about interactive tables.';\n",
              "          element.innerHTML = '';\n",
              "          dataTable['output_type'] = 'display_data';\n",
              "          await google.colab.output.renderOutput(dataTable, element);\n",
              "          const docLink = document.createElement('div');\n",
              "          docLink.innerHTML = docLinkHtml;\n",
              "          element.appendChild(docLink);\n",
              "        }\n",
              "      </script>\n",
              "    </div>\n",
              "  </div>\n",
              "  "
            ]
          },
          "metadata": {},
          "execution_count": 4
        }
      ],
      "source": [
        "df.head()"
      ]
    },
    {
      "cell_type": "code",
      "execution_count": null,
      "metadata": {
        "colab": {
          "base_uri": "https://localhost:8080/"
        },
        "id": "y-TyzkQr-ZMv",
        "outputId": "b38607d7-867a-4e83-b2eb-b369b3c55509"
      },
      "outputs": [
        {
          "output_type": "execute_result",
          "data": {
            "text/plain": [
              "Index(['trans_date_trans_time', 'cc_num', 'merchant', 'category', 'amt',\n",
              "       'gender', 'street', 'city', 'state', 'zip', 'lat', 'long', 'city_pop',\n",
              "       'job', 'dob', 'trans_num', 'merch_lat', 'merch_long', 'is_fraud'],\n",
              "      dtype='object')"
            ]
          },
          "metadata": {},
          "execution_count": 5
        }
      ],
      "source": [
        "df_new = df[['trans_date_trans_time', 'cc_num', 'merchant', 'category',\n",
        "       'amt', 'gender', 'street', 'city', 'state', 'zip',\n",
        "       'lat', 'long', 'city_pop', 'job', 'dob', 'trans_num',\n",
        "       'merch_lat', 'merch_long', 'is_fraud']]\n",
        "\n",
        "df_new.columns"
      ]
    },
    {
      "cell_type": "code",
      "execution_count": null,
      "metadata": {
        "colab": {
          "base_uri": "https://localhost:8080/"
        },
        "id": "cLmrK86ZFeO4",
        "outputId": "62cc1be2-288c-4b92-8cb2-0445897eddcf"
      },
      "outputs": [
        {
          "output_type": "stream",
          "name": "stdout",
          "text": [
            "trans_date_trans_time   0\n",
            "cc_num   0\n",
            "merchant   0\n",
            "category   0\n",
            "amt   0\n",
            "gender   0\n",
            "street   0\n",
            "city   0\n",
            "state   0\n",
            "zip   0\n",
            "lat   0\n",
            "long   0\n",
            "city_pop   0\n",
            "job   0\n",
            "dob   0\n",
            "trans_num   0\n",
            "merch_lat   0\n",
            "merch_long   0\n",
            "is_fraud   0\n"
          ]
        }
      ],
      "source": [
        "for cols in df_new.columns:\n",
        "  print(cols,' ',df_new[cols].isna().sum())"
      ]
    },
    {
      "cell_type": "code",
      "execution_count": null,
      "metadata": {
        "id": "1-vSbemBJd9X"
      },
      "outputs": [],
      "source": [
        "#remove that one row with Nan\n",
        "df_new = df_new.dropna()"
      ]
    },
    {
      "cell_type": "code",
      "execution_count": null,
      "metadata": {
        "colab": {
          "base_uri": "https://localhost:8080/",
          "height": 361
        },
        "id": "4z7ixsaRGACt",
        "outputId": "94b0c3e5-3b1b-4669-e57c-f41a4bbc39e0"
      },
      "outputs": [
        {
          "output_type": "execute_result",
          "data": {
            "text/plain": [
              "             cc_num            amt            zip            lat  \\\n",
              "count  5.557190e+05  555719.000000  555719.000000  555719.000000   \n",
              "mean   4.178387e+17      69.392810   48842.628015      38.543253   \n",
              "std    1.309837e+18     156.745941   26855.283328       5.061336   \n",
              "min    6.041621e+10       1.000000    1257.000000      20.027100   \n",
              "25%    1.800429e+14       9.630000   26292.000000      34.668900   \n",
              "50%    3.521417e+15      47.290000   48174.000000      39.371600   \n",
              "75%    4.635331e+15      83.010000   72011.000000      41.894800   \n",
              "max    4.992346e+18   22768.110000   99921.000000      65.689900   \n",
              "\n",
              "                long      city_pop      merch_lat     merch_long  \\\n",
              "count  555719.000000  5.557190e+05  555719.000000  555719.000000   \n",
              "mean      -90.231325  8.822189e+04      38.542798     -90.231380   \n",
              "std        13.721780  3.003909e+05       5.095829      13.733071   \n",
              "min      -165.672300  2.300000e+01      19.027422    -166.671575   \n",
              "25%       -96.798000  7.410000e+02      34.755302     -96.905129   \n",
              "50%       -87.476900  2.408000e+03      39.376593     -87.445204   \n",
              "75%       -80.175200  1.968500e+04      41.954163     -80.264637   \n",
              "max       -67.950300  2.906700e+06      66.679297     -66.952026   \n",
              "\n",
              "            is_fraud  \n",
              "count  555719.000000  \n",
              "mean        0.003860  \n",
              "std         0.062008  \n",
              "min         0.000000  \n",
              "25%         0.000000  \n",
              "50%         0.000000  \n",
              "75%         0.000000  \n",
              "max         1.000000  "
            ],
            "text/html": [
              "\n",
              "  <div id=\"df-65173dce-a33f-415c-ad9f-0c2ae517025d\">\n",
              "    <div class=\"colab-df-container\">\n",
              "      <div>\n",
              "<style scoped>\n",
              "    .dataframe tbody tr th:only-of-type {\n",
              "        vertical-align: middle;\n",
              "    }\n",
              "\n",
              "    .dataframe tbody tr th {\n",
              "        vertical-align: top;\n",
              "    }\n",
              "\n",
              "    .dataframe thead th {\n",
              "        text-align: right;\n",
              "    }\n",
              "</style>\n",
              "<table border=\"1\" class=\"dataframe\">\n",
              "  <thead>\n",
              "    <tr style=\"text-align: right;\">\n",
              "      <th></th>\n",
              "      <th>cc_num</th>\n",
              "      <th>amt</th>\n",
              "      <th>zip</th>\n",
              "      <th>lat</th>\n",
              "      <th>long</th>\n",
              "      <th>city_pop</th>\n",
              "      <th>merch_lat</th>\n",
              "      <th>merch_long</th>\n",
              "      <th>is_fraud</th>\n",
              "    </tr>\n",
              "  </thead>\n",
              "  <tbody>\n",
              "    <tr>\n",
              "      <th>count</th>\n",
              "      <td>5.557190e+05</td>\n",
              "      <td>555719.000000</td>\n",
              "      <td>555719.000000</td>\n",
              "      <td>555719.000000</td>\n",
              "      <td>555719.000000</td>\n",
              "      <td>5.557190e+05</td>\n",
              "      <td>555719.000000</td>\n",
              "      <td>555719.000000</td>\n",
              "      <td>555719.000000</td>\n",
              "    </tr>\n",
              "    <tr>\n",
              "      <th>mean</th>\n",
              "      <td>4.178387e+17</td>\n",
              "      <td>69.392810</td>\n",
              "      <td>48842.628015</td>\n",
              "      <td>38.543253</td>\n",
              "      <td>-90.231325</td>\n",
              "      <td>8.822189e+04</td>\n",
              "      <td>38.542798</td>\n",
              "      <td>-90.231380</td>\n",
              "      <td>0.003860</td>\n",
              "    </tr>\n",
              "    <tr>\n",
              "      <th>std</th>\n",
              "      <td>1.309837e+18</td>\n",
              "      <td>156.745941</td>\n",
              "      <td>26855.283328</td>\n",
              "      <td>5.061336</td>\n",
              "      <td>13.721780</td>\n",
              "      <td>3.003909e+05</td>\n",
              "      <td>5.095829</td>\n",
              "      <td>13.733071</td>\n",
              "      <td>0.062008</td>\n",
              "    </tr>\n",
              "    <tr>\n",
              "      <th>min</th>\n",
              "      <td>6.041621e+10</td>\n",
              "      <td>1.000000</td>\n",
              "      <td>1257.000000</td>\n",
              "      <td>20.027100</td>\n",
              "      <td>-165.672300</td>\n",
              "      <td>2.300000e+01</td>\n",
              "      <td>19.027422</td>\n",
              "      <td>-166.671575</td>\n",
              "      <td>0.000000</td>\n",
              "    </tr>\n",
              "    <tr>\n",
              "      <th>25%</th>\n",
              "      <td>1.800429e+14</td>\n",
              "      <td>9.630000</td>\n",
              "      <td>26292.000000</td>\n",
              "      <td>34.668900</td>\n",
              "      <td>-96.798000</td>\n",
              "      <td>7.410000e+02</td>\n",
              "      <td>34.755302</td>\n",
              "      <td>-96.905129</td>\n",
              "      <td>0.000000</td>\n",
              "    </tr>\n",
              "    <tr>\n",
              "      <th>50%</th>\n",
              "      <td>3.521417e+15</td>\n",
              "      <td>47.290000</td>\n",
              "      <td>48174.000000</td>\n",
              "      <td>39.371600</td>\n",
              "      <td>-87.476900</td>\n",
              "      <td>2.408000e+03</td>\n",
              "      <td>39.376593</td>\n",
              "      <td>-87.445204</td>\n",
              "      <td>0.000000</td>\n",
              "    </tr>\n",
              "    <tr>\n",
              "      <th>75%</th>\n",
              "      <td>4.635331e+15</td>\n",
              "      <td>83.010000</td>\n",
              "      <td>72011.000000</td>\n",
              "      <td>41.894800</td>\n",
              "      <td>-80.175200</td>\n",
              "      <td>1.968500e+04</td>\n",
              "      <td>41.954163</td>\n",
              "      <td>-80.264637</td>\n",
              "      <td>0.000000</td>\n",
              "    </tr>\n",
              "    <tr>\n",
              "      <th>max</th>\n",
              "      <td>4.992346e+18</td>\n",
              "      <td>22768.110000</td>\n",
              "      <td>99921.000000</td>\n",
              "      <td>65.689900</td>\n",
              "      <td>-67.950300</td>\n",
              "      <td>2.906700e+06</td>\n",
              "      <td>66.679297</td>\n",
              "      <td>-66.952026</td>\n",
              "      <td>1.000000</td>\n",
              "    </tr>\n",
              "  </tbody>\n",
              "</table>\n",
              "</div>\n",
              "      <button class=\"colab-df-convert\" onclick=\"convertToInteractive('df-65173dce-a33f-415c-ad9f-0c2ae517025d')\"\n",
              "              title=\"Convert this dataframe to an interactive table.\"\n",
              "              style=\"display:none;\">\n",
              "        \n",
              "  <svg xmlns=\"http://www.w3.org/2000/svg\" height=\"24px\"viewBox=\"0 0 24 24\"\n",
              "       width=\"24px\">\n",
              "    <path d=\"M0 0h24v24H0V0z\" fill=\"none\"/>\n",
              "    <path d=\"M18.56 5.44l.94 2.06.94-2.06 2.06-.94-2.06-.94-.94-2.06-.94 2.06-2.06.94zm-11 1L8.5 8.5l.94-2.06 2.06-.94-2.06-.94L8.5 2.5l-.94 2.06-2.06.94zm10 10l.94 2.06.94-2.06 2.06-.94-2.06-.94-.94-2.06-.94 2.06-2.06.94z\"/><path d=\"M17.41 7.96l-1.37-1.37c-.4-.4-.92-.59-1.43-.59-.52 0-1.04.2-1.43.59L10.3 9.45l-7.72 7.72c-.78.78-.78 2.05 0 2.83L4 21.41c.39.39.9.59 1.41.59.51 0 1.02-.2 1.41-.59l7.78-7.78 2.81-2.81c.8-.78.8-2.07 0-2.86zM5.41 20L4 18.59l7.72-7.72 1.47 1.35L5.41 20z\"/>\n",
              "  </svg>\n",
              "      </button>\n",
              "      \n",
              "  <style>\n",
              "    .colab-df-container {\n",
              "      display:flex;\n",
              "      flex-wrap:wrap;\n",
              "      gap: 12px;\n",
              "    }\n",
              "\n",
              "    .colab-df-convert {\n",
              "      background-color: #E8F0FE;\n",
              "      border: none;\n",
              "      border-radius: 50%;\n",
              "      cursor: pointer;\n",
              "      display: none;\n",
              "      fill: #1967D2;\n",
              "      height: 32px;\n",
              "      padding: 0 0 0 0;\n",
              "      width: 32px;\n",
              "    }\n",
              "\n",
              "    .colab-df-convert:hover {\n",
              "      background-color: #E2EBFA;\n",
              "      box-shadow: 0px 1px 2px rgba(60, 64, 67, 0.3), 0px 1px 3px 1px rgba(60, 64, 67, 0.15);\n",
              "      fill: #174EA6;\n",
              "    }\n",
              "\n",
              "    [theme=dark] .colab-df-convert {\n",
              "      background-color: #3B4455;\n",
              "      fill: #D2E3FC;\n",
              "    }\n",
              "\n",
              "    [theme=dark] .colab-df-convert:hover {\n",
              "      background-color: #434B5C;\n",
              "      box-shadow: 0px 1px 3px 1px rgba(0, 0, 0, 0.15);\n",
              "      filter: drop-shadow(0px 1px 2px rgba(0, 0, 0, 0.3));\n",
              "      fill: #FFFFFF;\n",
              "    }\n",
              "  </style>\n",
              "\n",
              "      <script>\n",
              "        const buttonEl =\n",
              "          document.querySelector('#df-65173dce-a33f-415c-ad9f-0c2ae517025d button.colab-df-convert');\n",
              "        buttonEl.style.display =\n",
              "          google.colab.kernel.accessAllowed ? 'block' : 'none';\n",
              "\n",
              "        async function convertToInteractive(key) {\n",
              "          const element = document.querySelector('#df-65173dce-a33f-415c-ad9f-0c2ae517025d');\n",
              "          const dataTable =\n",
              "            await google.colab.kernel.invokeFunction('convertToInteractive',\n",
              "                                                     [key], {});\n",
              "          if (!dataTable) return;\n",
              "\n",
              "          const docLinkHtml = 'Like what you see? Visit the ' +\n",
              "            '<a target=\"_blank\" href=https://colab.research.google.com/notebooks/data_table.ipynb>data table notebook</a>'\n",
              "            + ' to learn more about interactive tables.';\n",
              "          element.innerHTML = '';\n",
              "          dataTable['output_type'] = 'display_data';\n",
              "          await google.colab.output.renderOutput(dataTable, element);\n",
              "          const docLink = document.createElement('div');\n",
              "          docLink.innerHTML = docLinkHtml;\n",
              "          element.appendChild(docLink);\n",
              "        }\n",
              "      </script>\n",
              "    </div>\n",
              "  </div>\n",
              "  "
            ]
          },
          "metadata": {},
          "execution_count": 8
        }
      ],
      "source": [
        "df_new.describe()"
      ]
    },
    {
      "cell_type": "code",
      "execution_count": null,
      "metadata": {
        "id": "0yY0bNnSGWpZ"
      },
      "outputs": [],
      "source": [
        "#df_new[df_new['merch_long'].isna()]"
      ]
    },
    {
      "cell_type": "code",
      "execution_count": null,
      "metadata": {
        "colab": {
          "base_uri": "https://localhost:8080/"
        },
        "id": "p9-_135KHhlo",
        "outputId": "c1161a30-7219-4690-b280-f58a38f2f5dd"
      },
      "outputs": [
        {
          "output_type": "execute_result",
          "data": {
            "text/plain": [
              "gas_transport     56370\n",
              "grocery_pos       52553\n",
              "home              52345\n",
              "shopping_pos      49791\n",
              "kids_pets         48692\n",
              "shopping_net      41779\n",
              "entertainment     40104\n",
              "personal_care     39327\n",
              "food_dining       39268\n",
              "health_fitness    36674\n",
              "misc_pos          34574\n",
              "misc_net          27367\n",
              "grocery_net       19426\n",
              "travel            17449\n",
              "Name: category, dtype: int64"
            ]
          },
          "metadata": {},
          "execution_count": 10
        }
      ],
      "source": [
        "jobs = df_new['category']\n",
        "jobs.value_counts()"
      ]
    },
    {
      "cell_type": "code",
      "execution_count": null,
      "metadata": {
        "id": "nqvId2TiK_ip"
      },
      "outputs": [],
      "source": [
        "# function to calculate age\n",
        "def calculate_age(dob):\n",
        "    year_now = datetime.datetime.now().year\n",
        "    dob_year = int(dob[:4])\n",
        "    age = year_now - dob_year\n",
        "    age_list.append(age)"
      ]
    },
    {
      "cell_type": "code",
      "execution_count": null,
      "metadata": {
        "id": "Ek9IuUcXMYxZ"
      },
      "outputs": [],
      "source": [
        "# function call\n",
        "age_list = []\n",
        "for date in df_new['dob']:\n",
        "  calculate_age(date)"
      ]
    },
    {
      "cell_type": "code",
      "execution_count": null,
      "metadata": {
        "colab": {
          "base_uri": "https://localhost:8080/"
        },
        "id": "Ps5_cUYMNWVC",
        "outputId": "6459f3cc-9c17-413e-928a-723d9c899ef4"
      },
      "outputs": [
        {
          "output_type": "execute_result",
          "data": {
            "text/plain": [
              "count    555719.000000\n",
              "mean         48.636237\n",
              "std          17.418528\n",
              "min          17.000000\n",
              "25%          35.000000\n",
              "50%          47.000000\n",
              "75%          60.000000\n",
              "max          98.000000\n",
              "Name: Age, dtype: float64"
            ]
          },
          "metadata": {},
          "execution_count": 13
        }
      ],
      "source": [
        "# adding Age to the dataframe\n",
        "df_new['Age'] = age_list\n",
        "\n",
        "df_new['Age'].describe()"
      ]
    },
    {
      "cell_type": "code",
      "execution_count": null,
      "metadata": {
        "id": "Qa2Y0tMsiwkf"
      },
      "outputs": [],
      "source": [
        "df_new.columns\n",
        "df_numeric_x = df_new[['cc_num','amt','zip','lat','long','city_pop','merch_lat','merch_long','Age']]\n",
        "df_numeric_y = np.array(df_new['is_fraud'])"
      ]
    },
    {
      "cell_type": "code",
      "execution_count": null,
      "metadata": {
        "colab": {
          "base_uri": "https://localhost:8080/",
          "height": 399
        },
        "id": "j9T1JTQjAe7z",
        "outputId": "d193ddec-3672-43ac-8006-59efbf87e6d6"
      },
      "outputs": [
        {
          "output_type": "display_data",
          "data": {
            "text/plain": [
              "<Figure size 1152x432 with 2 Axes>"
            ],
            "image/png": "[encoded data removed]"
          },
          "metadata": {
            "needs_background": "light"
          }
        }
      ],
      "source": [
        "df_numeric = df_new[['cc_num','amt','zip','lat','long','city_pop','merch_lat','merch_long','Age','is_fraud']]\n",
        "df_numeric.corr()\n",
        "plt.figure(figsize=(16, 6))\n",
        "heatmap = sns.heatmap(df_numeric.corr(),vmin=-1, vmax=1, annot=True)\n",
        "heatmap.set_title('Correlation Heatmap', fontdict={'fontsize':12}, pad=14);"
      ]
    },
    {
      "cell_type": "code",
      "execution_count": null,
      "metadata": {
        "colab": {
          "base_uri": "https://localhost:8080/"
        },
        "id": "O2tUGFASjrzc",
        "outputId": "275e6421-1c9b-4ed7-a94c-1bac2452bccf"
      },
      "outputs": [
        {
          "output_type": "execute_result",
          "data": {
            "text/plain": [
              "RandomForestClassifier(class_weight='balanced', max_depth=5, n_jobs=-1)"
            ]
          },
          "metadata": {},
          "execution_count": 16
        }
      ],
      "source": [
        "forest = RandomForestClassifier(n_jobs=-1, class_weight='balanced', max_depth=5)\n",
        "forest.fit(df_numeric_x, list(df_new['is_fraud']))\n"
      ]
    },
    {
      "cell_type": "code",
      "execution_count": null,
      "metadata": {
        "id": "AmW3d8hUuwVp"
      },
      "outputs": [],
      "source": [
        "#list(df_new['is_fraud'])"
      ]
    },
    {
      "cell_type": "code",
      "execution_count": null,
      "metadata": {
        "colab": {
          "base_uri": "https://localhost:8080/"
        },
        "id": "gI2jmmktkhWr",
        "outputId": "199c7f28-7aee-4948-cc8e-04d976b94ee5"
      },
      "outputs": [
        {
          "output_type": "stream",
          "name": "stdout",
          "text": [
            "Iteration: \t1 / 100\n",
            "Confirmed: \t0\n",
            "Tentative: \t9\n",
            "Rejected: \t0\n",
            "Iteration: \t2 / 100\n",
            "Confirmed: \t0\n",
            "Tentative: \t9\n",
            "Rejected: \t0\n",
            "Iteration: \t3 / 100\n",
            "Confirmed: \t0\n",
            "Tentative: \t9\n",
            "Rejected: \t0\n",
            "Iteration: \t4 / 100\n",
            "Confirmed: \t0\n",
            "Tentative: \t9\n",
            "Rejected: \t0\n",
            "Iteration: \t5 / 100\n",
            "Confirmed: \t0\n",
            "Tentative: \t9\n",
            "Rejected: \t0\n",
            "Iteration: \t6 / 100\n",
            "Confirmed: \t0\n",
            "Tentative: \t9\n",
            "Rejected: \t0\n",
            "Iteration: \t7 / 100\n",
            "Confirmed: \t0\n",
            "Tentative: \t9\n",
            "Rejected: \t0\n",
            "Iteration: \t8 / 100\n",
            "Confirmed: \t9\n",
            "Tentative: \t0\n",
            "Rejected: \t0\n",
            "\n",
            "\n",
            "BorutaPy finished running.\n",
            "\n",
            "Iteration: \t9 / 100\n",
            "Confirmed: \t9\n",
            "Tentative: \t0\n",
            "Rejected: \t0\n"
          ]
        },
        {
          "output_type": "execute_result",
          "data": {
            "text/plain": [
              "array([1, 1, 1, 1, 1, 1, 1, 1, 1])"
            ]
          },
          "metadata": {},
          "execution_count": 18
        }
      ],
      "source": [
        "forest = RandomForestClassifier(n_jobs=-1, class_weight='balanced', max_depth=5)\n",
        "forest.fit(df_numeric_x, list(df_new['is_fraud']))\n",
        "\n",
        "feat_selector = BorutaPy(forest, n_estimators='auto', verbose=2, random_state=1)\n",
        "\n",
        "# find all relevant features\n",
        "feat_selector.fit(df_numeric_x.values, df_new['is_fraud'].values)\n",
        "\n",
        "# check selected features\n",
        "feat_selector.support_\n",
        "\n",
        "# check ranking of features\n",
        "feat_selector.ranking_"
      ]
    },
    {
      "cell_type": "code",
      "execution_count": null,
      "metadata": {
        "id": "HqO4JcgglNus"
      },
      "outputs": [],
      "source": [
        "# call transform() on X to filter it down to selected features\n",
        "X_filtered = feat_selector.transform(df_numeric_x.values)"
      ]
    },
    {
      "cell_type": "code",
      "execution_count": null,
      "metadata": {
        "colab": {
          "base_uri": "https://localhost:8080/"
        },
        "id": "ySI4KcBxMYG7",
        "outputId": "f8ce2ceb-763f-4941-f687-1df2d2b30002"
      },
      "outputs": [
        {
          "output_type": "execute_result",
          "data": {
            "text/plain": [
              "Afternoon Transaction    444412\n",
              "Forenoon Transaction     111307\n",
              "Name: Transaction Category, dtype: int64"
            ]
          },
          "metadata": {},
          "execution_count": 20
        }
      ],
      "source": [
        "transaction_time = df_new['trans_date_trans_time']\n",
        "transaction_time.value_counts()\n",
        "transaction_time[0][14:16]\n",
        "\n",
        "transaction_category = []\n",
        "for transaction in df_new['trans_date_trans_time']:\n",
        "  if int(transaction[14:16]) < 12:\n",
        "    transaction_category.append('Forenoon Transaction')\n",
        "  else:\n",
        "    transaction_category.append('Afternoon Transaction')\n",
        "\n",
        "\n",
        "df_new['Transaction Category'] = transaction_category\n",
        "df_new['Transaction Category'].value_counts()\n"
      ]
    },
    {
      "cell_type": "code",
      "execution_count": null,
      "metadata": {
        "id": "JZu3SrZQU5_N"
      },
      "outputs": [],
      "source": [
        "distance = []\n",
        "for i in range(len(df_new)):\n",
        "  lat1 = df_new['lat'][i]\n",
        "  lon1 = df_new['long'][i]\n",
        "  lat2 = df_new['merch_lat'][i]\n",
        "  lon2 = df_new['merch_long'][i]\n",
        "  coords_1 = (lat1,lon1)\n",
        "  coords_2 = (lat2,lon2)\n",
        "  dist = geopy.distance.geodesic(coords_1, coords_2).miles\n",
        "  distance.append(dist)"
      ]
    },
    {
      "cell_type": "code",
      "execution_count": null,
      "metadata": {
        "id": "HiuLQR9mX1ja"
      },
      "outputs": [],
      "source": [
        "df_new['distance'] = distance\n",
        "df_new['distance'].describe()"
      ]
    },
    {
      "cell_type": "code",
      "execution_count": null,
      "metadata": {
        "id": "daadmDQvXt8w"
      },
      "outputs": [],
      "source": [
        "df_new.columns"
      ]
    },
    {
      "cell_type": "code",
      "execution_count": null,
      "metadata": {
        "id": "MYSmXPKlovSC"
      },
      "outputs": [],
      "source": [
        "df_hist = df_new[['amt', 'city_pop', 'is_fraud', 'Age', 'distance']]"
      ]
    },
    {
      "cell_type": "code",
      "execution_count": null,
      "metadata": {
        "colab": {
          "base_uri": "https://localhost:8080/",
          "height": 726
        },
        "id": "WSD61ac1Ttib",
        "outputId": "cea684c4-89b8-43bb-a9a1-eb4c7065d6df"
      },
      "outputs": [
        {
          "output_type": "execute_result",
          "data": {
            "text/plain": [
              "array([[<matplotlib.axes._subplots.AxesSubplot object at 0x7f56b0e9fc10>,\n",
              "        <matplotlib.axes._subplots.AxesSubplot object at 0x7f56b1860610>],\n",
              "       [<matplotlib.axes._subplots.AxesSubplot object at 0x7f56b0e8e3d0>,\n",
              "        <matplotlib.axes._subplots.AxesSubplot object at 0x7f56b0e429d0>],\n",
              "       [<matplotlib.axes._subplots.AxesSubplot object at 0x7f56b0debad0>,\n",
              "        <matplotlib.axes._subplots.AxesSubplot object at 0x7f56b0db5610>]],\n",
              "      dtype=object)"
            ]
          },
          "metadata": {},
          "execution_count": 25
        },
        {
          "output_type": "display_data",
          "data": {
            "text/plain": [
              "<Figure size 1080x720 with 6 Axes>"
            ],
            "image/png": "[encoded data removed]"
          },
          "metadata": {
            "needs_background": "light"
          }
        }
      ],
      "source": [
        "df_hist.hist(bins=30, figsize=(15, 10))"
      ]
    },
    {
      "cell_type": "code",
      "execution_count": null,
      "metadata": {
        "id": "OCAc91MAotUj"
      },
      "outputs": [],
      "source": []
    },
    {
      "cell_type": "code",
      "execution_count": null,
      "metadata": {
        "colab": {
          "base_uri": "https://localhost:8080/",
          "height": 279
        },
        "id": "wD-ln5l2WT8l",
        "outputId": "c0e50ad2-0bb6-4210-c15c-b88c38af248b"
      },
      "outputs": [
        {
          "output_type": "display_data",
          "data": {
            "text/plain": [
              "<Figure size 432x288 with 1 Axes>"
            ],
            "image/png": "[encoded data removed]"
          },
          "metadata": {
            "needs_background": "light"
          }
        }
      ],
      "source": [
        "ax = sns.boxplot(x=\"Age\", data=df_new) "
      ]
    },
    {
      "cell_type": "code",
      "execution_count": null,
      "metadata": {
        "colab": {
          "base_uri": "https://localhost:8080/"
        },
        "id": "bteHCOCebiK2",
        "outputId": "7a640618-f123-44c1-8ea2-136b1ab19438"
      },
      "outputs": [
        {
          "output_type": "stream",
          "name": "stdout",
          "text": [
            "199\n"
          ]
        }
      ],
      "source": [
        "q75,q25 = np.percentile(df_new['Age'],[75,25])\n",
        "intr_qr = q75-q25\n",
        "max = q75+(1.5*intr_qr)\n",
        "min = q25-(1.5*intr_qr)\n",
        "\n",
        "Age_cleaned = []\n",
        "for x in df_new['Age']:\n",
        "  if x >= max:\n",
        "    Age_cleaned.append(np.nan)\n",
        "  elif x <= min:\n",
        "    Age_cleaned.append(np.nan)\n",
        "  else:\n",
        "    Age_cleaned.append(x)\n",
        "\n",
        "df_new['Age'] = Age_cleaned\n",
        "print(df_new['Age'].isnull().sum())\n",
        "df_new = df_new.dropna(axis = 0)"
      ]
    },
    {
      "cell_type": "code",
      "execution_count": null,
      "metadata": {
        "colab": {
          "base_uri": "https://localhost:8080/",
          "height": 279
        },
        "id": "QxpO9zsTpaz_",
        "outputId": "bf47da7d-cf7e-4a22-f545-ffaeb056cd66"
      },
      "outputs": [
        {
          "output_type": "display_data",
          "data": {
            "text/plain": [
              "<Figure size 432x288 with 1 Axes>"
            ],
            "image/png": "[encoded data removed]"
          },
          "metadata": {
            "needs_background": "light"
          }
        }
      ],
      "source": [
        "ax = sns.boxplot(x=\"Age\", data=df_new) "
      ]
    },
    {
      "cell_type": "code",
      "execution_count": null,
      "metadata": {
        "colab": {
          "base_uri": "https://localhost:8080/",
          "height": 279
        },
        "id": "fY8vdNS-WwnQ",
        "outputId": "54fa7517-e4dc-44de-942e-9a95635f5b02"
      },
      "outputs": [
        {
          "output_type": "display_data",
          "data": {
            "text/plain": [
              "<Figure size 432x288 with 1 Axes>"
            ],
            "image/png": "[encoded data removed]"
          },
          "metadata": {
            "needs_background": "light"
          }
        }
      ],
      "source": [
        "ax = sns.boxplot(x=\"distance\", data=df_new) "
      ]
    },
    {
      "cell_type": "code",
      "execution_count": null,
      "metadata": {
        "colab": {
          "base_uri": "https://localhost:8080/",
          "height": 279
        },
        "id": "HrSR7H6kW4yM",
        "outputId": "1f0e5da4-9c5b-4624-f16a-4a5a22810b44"
      },
      "outputs": [
        {
          "output_type": "display_data",
          "data": {
            "text/plain": [
              "<Figure size 432x288 with 1 Axes>"
            ],
            "image/png": "[encoded data removed]"
          },
          "metadata": {
            "needs_background": "light"
          }
        }
      ],
      "source": [
        "ax = sns.boxplot(x=\"amt\", data=df_new) "
      ]
    },
    {
      "cell_type": "code",
      "execution_count": null,
      "metadata": {
        "id": "AfgLCl3Piz0O"
      },
      "outputs": [],
      "source": [
        "#q75,q25 = np.percentile(df_new['amt'],[75,25])\n",
        "#intr_qr = q75-q25\n",
        "#max = q75+(1.5*intr_qr)\n",
        "#min = q25-(1.5*intr_qr)\n",
        "\n",
        "#amt_cleaned = []\n",
        "#for x in df_new['amt']:\n",
        "#  if x >= max:\n",
        "#    amt_cleaned.append(np.nan)\n",
        "#  elif x <= min:\n",
        "#    amt_cleaned.append(np.nan)\n",
        "#  else:\n",
        "#   amt_cleaned.append(x)\n",
        "\n",
        "#df_new['Amt_cleaned'] = amt_cleaned\n",
        "#print(df_new['Amt_cleaned'].isnull().sum())\n",
        "#df_new = df_new.dropna(axis = 0)"
      ]
    },
    {
      "cell_type": "code",
      "execution_count": null,
      "metadata": {
        "id": "gUhjSp-CphNv"
      },
      "outputs": [],
      "source": [
        "#ax = sns.boxplot(x=\"amt\", data=df_new) "
      ]
    },
    {
      "cell_type": "code",
      "execution_count": null,
      "metadata": {
        "id": "LZj7haqrXBLE"
      },
      "outputs": [],
      "source": [
        "#ax = sns.boxplot(x=\"city_pop\", data=df_new) "
      ]
    },
    {
      "cell_type": "code",
      "execution_count": null,
      "metadata": {
        "id": "DmCGKJdsbTeb"
      },
      "outputs": [],
      "source": [
        "#q75,q25 = np.percentile(df_new['city_pop'],[75,25])\n",
        "#intr_qr = q75-q25\n",
        "#max = q75+(1.5*intr_qr)\n",
        "#min = q25-(1.5*intr_qr)\n",
        "\n",
        "#city_pop_cleaned = []\n",
        "#for x in df_new['city_pop']:\n",
        "#  if x >= max:\n",
        "#    city_pop_cleaned.append(np.nan)\n",
        "#  elif x <= min:\n",
        "#    city_pop_cleaned.append(np.nan)\n",
        "#  else:\n",
        "#    city_pop_cleaned.append(x)\n",
        "\n",
        "\n",
        "#df_new['City_pop_cleaned'] = city_pop_cleaned\n",
        "#print(df_new['City_pop_cleaned'].isnull().sum())\n",
        "#df_new = df_new.dropna(axis = 0)"
      ]
    },
    {
      "cell_type": "code",
      "execution_count": null,
      "metadata": {
        "id": "1v2blrSIpuZb"
      },
      "outputs": [],
      "source": [
        "#ax = sns.boxplot(x=\"city_pop\", data=df_new) "
      ]
    },
    {
      "cell_type": "code",
      "execution_count": null,
      "metadata": {
        "colab": {
          "base_uri": "https://localhost:8080/"
        },
        "id": "MWZsQohgrlkY",
        "outputId": "c6fc6ba6-fda6-4ae4-ab86-73b8700618ed"
      },
      "outputs": [
        {
          "output_type": "stream",
          "name": "stdout",
          "text": [
            "After removing outliers:  555520\n"
          ]
        }
      ],
      "source": [
        "print('After removing outliers: ',len(df_new))"
      ]
    },
    {
      "cell_type": "code",
      "execution_count": null,
      "metadata": {
        "id": "XJ6WnfZ8a96Y"
      },
      "outputs": [],
      "source": [
        "df_new = df_new[['merchant', 'category', 'amt',\n",
        "       'gender', 'city', 'state','city_pop',\n",
        "       'job','is_fraud', 'Age','Transaction Category', 'distance']]"
      ]
    },
    {
      "cell_type": "code",
      "execution_count": null,
      "metadata": {
        "colab": {
          "base_uri": "https://localhost:8080/"
        },
        "id": "WnfiHHblPkYt",
        "outputId": "96d41dc8-57e7-4d73-c996-7d623822c986"
      },
      "outputs": [
        {
          "output_type": "stream",
          "name": "stderr",
          "text": [
            "/usr/local/lib/python3.7/dist-packages/ipykernel_launcher.py:2: FutureWarning: Dropping of nuisance columns in DataFrame reductions (with 'numeric_only=None') is deprecated; in a future version this will raise TypeError.  Select only valid columns before calling the reduction.\n",
            "  \n"
          ]
        },
        {
          "output_type": "execute_result",
          "data": {
            "text/plain": [
              "amt         37.151935\n",
              "city_pop     5.582345\n",
              "is_fraud    16.026131\n",
              "Age          0.605311\n",
              "distance    -0.236542\n",
              "dtype: float64"
            ]
          },
          "metadata": {},
          "execution_count": 38
        }
      ],
      "source": [
        "#checking skewness\n",
        "df_new.skew()"
      ]
    },
    {
      "cell_type": "code",
      "execution_count": null,
      "metadata": {
        "id": "Jrh3VMqnbs3_",
        "colab": {
          "base_uri": "https://localhost:8080/",
          "height": 589
        },
        "outputId": "69a8621b-30f4-4e39-a078-3bd6f507f9a8"
      },
      "outputs": [
        {
          "output_type": "stream",
          "name": "stderr",
          "text": [
            "/usr/local/lib/python3.7/dist-packages/seaborn/distributions.py:2619: FutureWarning: `distplot` is a deprecated function and will be removed in a future version. Please adapt your code to use either `displot` (a figure-level function with similar flexibility) or `kdeplot` (an axes-level function for kernel density plots).\n",
            "  warnings.warn(msg, FutureWarning)\n",
            "/usr/local/lib/python3.7/dist-packages/seaborn/distributions.py:2619: FutureWarning: `distplot` is a deprecated function and will be removed in a future version. Please adapt your code to use either `displot` (a figure-level function with similar flexibility) or `kdeplot` (an axes-level function for kernel density plots).\n",
            "  warnings.warn(msg, FutureWarning)\n"
          ]
        },
        {
          "output_type": "stream",
          "name": "stdout",
          "text": [
            "lambda: 0.1360505629894499\n"
          ]
        },
        {
          "output_type": "stream",
          "name": "stderr",
          "text": [
            "/usr/local/lib/python3.7/dist-packages/seaborn/distributions.py:2619: FutureWarning: `distplot` is a deprecated function and will be removed in a future version. Please adapt your code to use either `displot` (a figure-level function with similar flexibility) or `kdeplot` (an axes-level function for kernel density plots).\n",
            "  warnings.warn(msg, FutureWarning)\n",
            "/usr/local/lib/python3.7/dist-packages/seaborn/distributions.py:2619: FutureWarning: `distplot` is a deprecated function and will be removed in a future version. Please adapt your code to use either `displot` (a figure-level function with similar flexibility) or `kdeplot` (an axes-level function for kernel density plots).\n",
            "  warnings.warn(msg, FutureWarning)\n"
          ]
        },
        {
          "output_type": "stream",
          "name": "stdout",
          "text": [
            "lambda: -0.11050656260937311\n"
          ]
        },
        {
          "output_type": "stream",
          "name": "stderr",
          "text": [
            "/usr/local/lib/python3.7/dist-packages/ipykernel_launcher.py:19: FutureWarning: Dropping of nuisance columns in DataFrame reductions (with 'numeric_only=None') is deprecated; in a future version this will raise TypeError.  Select only valid columns before calling the reduction.\n"
          ]
        },
        {
          "output_type": "execute_result",
          "data": {
            "text/plain": [
              "amt         -0.016182\n",
              "city_pop     0.057736\n",
              "is_fraud    16.026131\n",
              "Age          0.605311\n",
              "distance    -0.236542\n",
              "dtype: float64"
            ]
          },
          "metadata": {},
          "execution_count": 39
        },
        {
          "output_type": "display_data",
          "data": {
            "text/plain": [
              "<Figure size 432x288 with 1 Axes>"
            ],
            "image/png": "[encoded data removed]"
          },
          "metadata": {
            "needs_background": "light"
          }
        }
      ],
      "source": [
        "amt=df_new['amt']\n",
        "sns.distplot(amt, hist=False, kde=True)\n",
        "transformed_amt_data, best_lambda = boxcox(amt)\n",
        "sns.distplot(transformed_amt_data, hist=False, kde=True) \n",
        "print('lambda:', best_lambda)\n",
        "amt[0:5]\n",
        "df_new['amt']=transformed_amt_data\n",
        "transformed_amt_data[0:5]\n",
        "\n",
        "city_pop=df_new['city_pop']\n",
        "sns.distplot(city_pop, hist=False, kde=True)\n",
        "transformed_pop_data, best_lambda = boxcox(city_pop)\n",
        "sns.distplot(transformed_pop_data, hist=False, kde=True) \n",
        "print('lambda:', best_lambda)\n",
        "amt[0:5]\n",
        "df_new['city_pop']=transformed_pop_data\n",
        "transformed_pop_data[0:5]\n",
        "\n",
        "df_new.skew()"
      ]
    },
    {
      "cell_type": "code",
      "execution_count": null,
      "metadata": {
        "id": "TLMEfKznYWBn"
      },
      "outputs": [],
      "source": [
        "df_new.columns"
      ]
    },
    {
      "cell_type": "code",
      "execution_count": null,
      "metadata": {
        "id": "0UiCTT85dVAi"
      },
      "outputs": [],
      "source": [
        "q66,q33 = np.percentile(df_new['Age'],[66,33])\n",
        "age_category = []\n",
        "for age in df_new['Age']:\n",
        "  if age >= q66:\n",
        "    age_category.append('old')\n",
        "  elif age <= q33:\n",
        "    age_category.append('middle aged')\n",
        "  elif age > q33 and age < q66:\n",
        "    age_category.append('young')\n",
        "\n",
        "df_new['Age Category'] = age_category\n",
        "df_new['Age Category'].value_counts()"
      ]
    },
    {
      "cell_type": "code",
      "execution_count": null,
      "metadata": {
        "colab": {
          "base_uri": "https://localhost:8080/"
        },
        "id": "31Md0BycdeOq",
        "outputId": "d9d10590-8e6c-455d-9c23-8d9483753ba5"
      },
      "outputs": [
        {
          "output_type": "execute_result",
          "data": {
            "text/plain": [
              "far away distance    188877\n",
              "nearby distance      183322\n",
              "moderate distance    183321\n",
              "Name: Distance Category, dtype: int64"
            ]
          },
          "metadata": {},
          "execution_count": 42
        }
      ],
      "source": [
        "q66,q33 = np.percentile(df_new['distance'],[66,33])\n",
        "distance_category = []\n",
        "for distance in df_new['distance']:\n",
        "  if distance >= q66:\n",
        "    distance_category.append('far away distance')\n",
        "  elif distance <= q33:\n",
        "    distance_category.append('nearby distance')\n",
        "  elif distance > q33 and distance < q66:\n",
        "    distance_category.append('moderate distance')\n",
        "\n",
        "df_new['Distance Category'] = distance_category\n",
        "df_new['Distance Category'].value_counts()"
      ]
    },
    {
      "cell_type": "code",
      "execution_count": null,
      "metadata": {
        "colab": {
          "base_uri": "https://localhost:8080/"
        },
        "id": "hIdmmv_wduEz",
        "outputId": "9cfab6ba-403e-465d-d59d-7992a7fe975b"
      },
      "outputs": [
        {
          "output_type": "execute_result",
          "data": {
            "text/plain": [
              "Highly Populated        189106\n",
              "Sparsely Populated      183531\n",
              "Moderately Polulated    182883\n",
              "Name: Population Category, dtype: int64"
            ]
          },
          "metadata": {},
          "execution_count": 43
        }
      ],
      "source": [
        "q66,q33 = np.percentile(df_new['city_pop'],[66,33])\n",
        "city_pop_category = []\n",
        "for city_pop in df_new['city_pop']:\n",
        "  if city_pop >= q66:\n",
        "    city_pop_category.append('Highly Populated')\n",
        "  elif city_pop <= q33:\n",
        "    city_pop_category.append('Sparsely Populated ')\n",
        "  elif city_pop > q33 and city_pop < q66:\n",
        "    city_pop_category.append('Moderately Polulated')\n",
        "\n",
        "df_new['Population Category'] = city_pop_category\n",
        "df_new['Population Category'].value_counts()"
      ]
    },
    {
      "cell_type": "code",
      "execution_count": null,
      "metadata": {
        "colab": {
          "base_uri": "https://localhost:8080/"
        },
        "id": "6_BfJK8NlNqs",
        "outputId": "f13a9e19-a4a1-4524-db58-07dfc36e4cd6"
      },
      "outputs": [
        {
          "output_type": "execute_result",
          "data": {
            "text/plain": [
              "Highly Expensive        188904\n",
              "Sparsely Expensive      183329\n",
              "Moderately Expensive    183287\n",
              "Name: Amt Category, dtype: int64"
            ]
          },
          "metadata": {},
          "execution_count": 44
        }
      ],
      "source": [
        "q66,q33 = np.percentile(df_new['amt'],[66,33])\n",
        "amt_category = []\n",
        "for amt in df_new['amt']:\n",
        "  if amt >= q66:\n",
        "    amt_category.append('Highly Expensive')\n",
        "  elif amt <= q33:\n",
        "    amt_category.append('Sparsely Expensive ')\n",
        "  elif amt > q33 and amt < q66:\n",
        "    amt_category.append('Moderately Expensive')\n",
        "\n",
        "df_new['Amt Category'] = amt_category\n",
        "df_new['Amt Category'].value_counts()"
      ]
    },
    {
      "cell_type": "code",
      "execution_count": null,
      "metadata": {
        "colab": {
          "base_uri": "https://localhost:8080/",
          "height": 655
        },
        "id": "R8WW2ZwuXcfb",
        "outputId": "0cecbc22-5457-428f-f9b5-15b619a49272"
      },
      "outputs": [
        {
          "output_type": "stream",
          "name": "stderr",
          "text": [
            "/usr/local/lib/python3.7/dist-packages/ipykernel_launcher.py:2: FutureWarning: Dropping of nuisance columns in DataFrame reductions (with 'numeric_only=None') is deprecated; in a future version this will raise TypeError.  Select only valid columns before calling the reduction.\n",
            "  \n"
          ]
        },
        {
          "output_type": "execute_result",
          "data": {
            "text/plain": [
              "amt         -0.016182\n",
              "city_pop     0.057736\n",
              "is_fraud    16.026131\n",
              "Age          0.605311\n",
              "distance    -0.236542\n",
              "dtype: float64"
            ]
          },
          "metadata": {},
          "execution_count": 45
        },
        {
          "output_type": "display_data",
          "data": {
            "text/plain": [
              "<Figure size 864x576 with 6 Axes>"
            ],
            "image/png": "[encoded data removed]"
          },
          "metadata": {
            "needs_background": "light"
          }
        }
      ],
      "source": [
        "df_new.hist(bins=10, figsize=(12, 8))\n",
        "df_new.skew()"
      ]
    },
    {
      "cell_type": "code",
      "execution_count": null,
      "metadata": {
        "id": "iEM15ltjjnnr"
      },
      "outputs": [],
      "source": [
        "category = df_new['category']\n",
        "#category = category.replace({\"misc_pos\":\"misc\",\"misc_net\":\"misc\",\"grocery_pos\":\"grocery\",\"grocery_net\":\"grocery\",\"shopping_pos\":\"shopping\",\"shopping_net\":\"shopping\"})\n",
        "\n",
        "category = category.replace({\"misc_pos\":\"misc\",\"misc_net\":\"misc\",\"grocery_pos\":\"grocery\",\"grocery_net\":\"grocery\"})\n",
        "df_new['category'] = category\n",
        "Fraud = df_new['is_fraud']\n",
        "Fraud = Fraud.replace({0:\"Not a fraud\",1:\"Fraud\"})\n",
        "df_new['is_fraud'] = Fraud\n"
      ]
    },
    {
      "cell_type": "code",
      "execution_count": null,
      "metadata": {
        "id": "wn3YRzSFmVfz"
      },
      "outputs": [],
      "source": [
        "job = []\n",
        "for j in df_new['job']:\n",
        "  job.append(j.split(',')[0])\n",
        "df_new['job'] = job \n"
      ]
    },
    {
      "cell_type": "code",
      "execution_count": null,
      "metadata": {
        "id": "JX3eedVJYw5f",
        "colab": {
          "base_uri": "https://localhost:8080/",
          "height": 387
        },
        "outputId": "2f76c287-8aef-4a6c-827f-60ba4eb1d422"
      },
      "outputs": [
        {
          "output_type": "execute_result",
          "data": {
            "text/plain": [
              "                               merchant        category       amt gender  \\\n",
              "0                 fraud_Kirlin and Sons   personal_care  1.129648      M   \n",
              "1                  fraud_Sporer-Keebler   personal_care  4.316460      F   \n",
              "2  fraud_Swaniawski, Nitzsche and Welch  health_fitness  4.843111      F   \n",
              "3                     fraud_Haley Group            misc  5.480994      M   \n",
              "4                 fraud_Johnston-Casper          travel  1.256571      M   \n",
              "\n",
              "         city state  city_pop                  job     is_fraud   Age  \\\n",
              "0    Columbia    SC  6.829640  Mechanical engineer  Not a fraud  54.0   \n",
              "1     Altonah    UT  4.234695   Sales professional  Not a fraud  32.0   \n",
              "2    Bellmore    NY  6.197176            Librarian  Not a fraud  52.0   \n",
              "3  Titusville    FL  6.339204         Set designer  Not a fraud  35.0   \n",
              "4    Falmouth    MI  4.886327   Furniture designer  Not a fraud  67.0   \n",
              "\n",
              "    Transaction Category   distance Age Category  Distance Category  \\\n",
              "0  Afternoon Transaction  15.294273          old    nearby distance   \n",
              "1  Afternoon Transaction  65.140855  middle aged  far away distance   \n",
              "2  Afternoon Transaction  36.788154        young    nearby distance   \n",
              "3  Afternoon Transaction  17.159238  middle aged    nearby distance   \n",
              "4  Afternoon Transaction  64.885553          old  far away distance   \n",
              "\n",
              "   Population Category          Amt Category  \n",
              "0     Highly Populated   Sparsely Expensive   \n",
              "1  Sparsely Populated   Moderately Expensive  \n",
              "2     Highly Populated  Moderately Expensive  \n",
              "3     Highly Populated  Moderately Expensive  \n",
              "4  Sparsely Populated    Sparsely Expensive   "
            ],
            "text/html": [
              "\n",
              "  <div id=\"df-7dfad9de-c752-4584-a2ed-06173736bed3\">\n",
              "    <div class=\"colab-df-container\">\n",
              "      <div>\n",
              "<style scoped>\n",
              "    .dataframe tbody tr th:only-of-type {\n",
              "        vertical-align: middle;\n",
              "    }\n",
              "\n",
              "    .dataframe tbody tr th {\n",
              "        vertical-align: top;\n",
              "    }\n",
              "\n",
              "    .dataframe thead th {\n",
              "        text-align: right;\n",
              "    }\n",
              "</style>\n",
              "<table border=\"1\" class=\"dataframe\">\n",
              "  <thead>\n",
              "    <tr style=\"text-align: right;\">\n",
              "      <th></th>\n",
              "      <th>merchant</th>\n",
              "      <th>category</th>\n",
              "      <th>amt</th>\n",
              "      <th>gender</th>\n",
              "      <th>city</th>\n",
              "      <th>state</th>\n",
              "      <th>city_pop</th>\n",
              "      <th>job</th>\n",
              "      <th>is_fraud</th>\n",
              "      <th>Age</th>\n",
              "      <th>Transaction Category</th>\n",
              "      <th>distance</th>\n",
              "      <th>Age Category</th>\n",
              "      <th>Distance Category</th>\n",
              "      <th>Population Category</th>\n",
              "      <th>Amt Category</th>\n",
              "    </tr>\n",
              "  </thead>\n",
              "  <tbody>\n",
              "    <tr>\n",
              "      <th>0</th>\n",
              "      <td>fraud_Kirlin and Sons</td>\n",
              "      <td>personal_care</td>\n",
              "      <td>1.129648</td>\n",
              "      <td>M</td>\n",
              "      <td>Columbia</td>\n",
              "      <td>SC</td>\n",
              "      <td>6.829640</td>\n",
              "      <td>Mechanical engineer</td>\n",
              "      <td>Not a fraud</td>\n",
              "      <td>54.0</td>\n",
              "      <td>Afternoon Transaction</td>\n",
              "      <td>15.294273</td>\n",
              "      <td>old</td>\n",
              "      <td>nearby distance</td>\n",
              "      <td>Highly Populated</td>\n",
              "      <td>Sparsely Expensive</td>\n",
              "    </tr>\n",
              "    <tr>\n",
              "      <th>1</th>\n",
              "      <td>fraud_Sporer-Keebler</td>\n",
              "      <td>personal_care</td>\n",
              "      <td>4.316460</td>\n",
              "      <td>F</td>\n",
              "      <td>Altonah</td>\n",
              "      <td>UT</td>\n",
              "      <td>4.234695</td>\n",
              "      <td>Sales professional</td>\n",
              "      <td>Not a fraud</td>\n",
              "      <td>32.0</td>\n",
              "      <td>Afternoon Transaction</td>\n",
              "      <td>65.140855</td>\n",
              "      <td>middle aged</td>\n",
              "      <td>far away distance</td>\n",
              "      <td>Sparsely Populated</td>\n",
              "      <td>Moderately Expensive</td>\n",
              "    </tr>\n",
              "    <tr>\n",
              "      <th>2</th>\n",
              "      <td>fraud_Swaniawski, Nitzsche and Welch</td>\n",
              "      <td>health_fitness</td>\n",
              "      <td>4.843111</td>\n",
              "      <td>F</td>\n",
              "      <td>Bellmore</td>\n",
              "      <td>NY</td>\n",
              "      <td>6.197176</td>\n",
              "      <td>Librarian</td>\n",
              "      <td>Not a fraud</td>\n",
              "      <td>52.0</td>\n",
              "      <td>Afternoon Transaction</td>\n",
              "      <td>36.788154</td>\n",
              "      <td>young</td>\n",
              "      <td>nearby distance</td>\n",
              "      <td>Highly Populated</td>\n",
              "      <td>Moderately Expensive</td>\n",
              "    </tr>\n",
              "    <tr>\n",
              "      <th>3</th>\n",
              "      <td>fraud_Haley Group</td>\n",
              "      <td>misc</td>\n",
              "      <td>5.480994</td>\n",
              "      <td>M</td>\n",
              "      <td>Titusville</td>\n",
              "      <td>FL</td>\n",
              "      <td>6.339204</td>\n",
              "      <td>Set designer</td>\n",
              "      <td>Not a fraud</td>\n",
              "      <td>35.0</td>\n",
              "      <td>Afternoon Transaction</td>\n",
              "      <td>17.159238</td>\n",
              "      <td>middle aged</td>\n",
              "      <td>nearby distance</td>\n",
              "      <td>Highly Populated</td>\n",
              "      <td>Moderately Expensive</td>\n",
              "    </tr>\n",
              "    <tr>\n",
              "      <th>4</th>\n",
              "      <td>fraud_Johnston-Casper</td>\n",
              "      <td>travel</td>\n",
              "      <td>1.256571</td>\n",
              "      <td>M</td>\n",
              "      <td>Falmouth</td>\n",
              "      <td>MI</td>\n",
              "      <td>4.886327</td>\n",
              "      <td>Furniture designer</td>\n",
              "      <td>Not a fraud</td>\n",
              "      <td>67.0</td>\n",
              "      <td>Afternoon Transaction</td>\n",
              "      <td>64.885553</td>\n",
              "      <td>old</td>\n",
              "      <td>far away distance</td>\n",
              "      <td>Sparsely Populated</td>\n",
              "      <td>Sparsely Expensive</td>\n",
              "    </tr>\n",
              "  </tbody>\n",
              "</table>\n",
              "</div>\n",
              "      <button class=\"colab-df-convert\" onclick=\"convertToInteractive('df-7dfad9de-c752-4584-a2ed-06173736bed3')\"\n",
              "              title=\"Convert this dataframe to an interactive table.\"\n",
              "              style=\"display:none;\">\n",
              "        \n",
              "  <svg xmlns=\"http://www.w3.org/2000/svg\" height=\"24px\"viewBox=\"0 0 24 24\"\n",
              "       width=\"24px\">\n",
              "    <path d=\"M0 0h24v24H0V0z\" fill=\"none\"/>\n",
              "    <path d=\"M18.56 5.44l.94 2.06.94-2.06 2.06-.94-2.06-.94-.94-2.06-.94 2.06-2.06.94zm-11 1L8.5 8.5l.94-2.06 2.06-.94-2.06-.94L8.5 2.5l-.94 2.06-2.06.94zm10 10l.94 2.06.94-2.06 2.06-.94-2.06-.94-.94-2.06-.94 2.06-2.06.94z\"/><path d=\"M17.41 7.96l-1.37-1.37c-.4-.4-.92-.59-1.43-.59-.52 0-1.04.2-1.43.59L10.3 9.45l-7.72 7.72c-.78.78-.78 2.05 0 2.83L4 21.41c.39.39.9.59 1.41.59.51 0 1.02-.2 1.41-.59l7.78-7.78 2.81-2.81c.8-.78.8-2.07 0-2.86zM5.41 20L4 18.59l7.72-7.72 1.47 1.35L5.41 20z\"/>\n",
              "  </svg>\n",
              "      </button>\n",
              "      \n",
              "  <style>\n",
              "    .colab-df-container {\n",
              "      display:flex;\n",
              "      flex-wrap:wrap;\n",
              "      gap: 12px;\n",
              "    }\n",
              "\n",
              "    .colab-df-convert {\n",
              "      background-color: #E8F0FE;\n",
              "      border: none;\n",
              "      border-radius: 50%;\n",
              "      cursor: pointer;\n",
              "      display: none;\n",
              "      fill: #1967D2;\n",
              "      height: 32px;\n",
              "      padding: 0 0 0 0;\n",
              "      width: 32px;\n",
              "    }\n",
              "\n",
              "    .colab-df-convert:hover {\n",
              "      background-color: #E2EBFA;\n",
              "      box-shadow: 0px 1px 2px rgba(60, 64, 67, 0.3), 0px 1px 3px 1px rgba(60, 64, 67, 0.15);\n",
              "      fill: #174EA6;\n",
              "    }\n",
              "\n",
              "    [theme=dark] .colab-df-convert {\n",
              "      background-color: #3B4455;\n",
              "      fill: #D2E3FC;\n",
              "    }\n",
              "\n",
              "    [theme=dark] .colab-df-convert:hover {\n",
              "      background-color: #434B5C;\n",
              "      box-shadow: 0px 1px 3px 1px rgba(0, 0, 0, 0.15);\n",
              "      filter: drop-shadow(0px 1px 2px rgba(0, 0, 0, 0.3));\n",
              "      fill: #FFFFFF;\n",
              "    }\n",
              "  </style>\n",
              "\n",
              "      <script>\n",
              "        const buttonEl =\n",
              "          document.querySelector('#df-7dfad9de-c752-4584-a2ed-06173736bed3 button.colab-df-convert');\n",
              "        buttonEl.style.display =\n",
              "          google.colab.kernel.accessAllowed ? 'block' : 'none';\n",
              "\n",
              "        async function convertToInteractive(key) {\n",
              "          const element = document.querySelector('#df-7dfad9de-c752-4584-a2ed-06173736bed3');\n",
              "          const dataTable =\n",
              "            await google.colab.kernel.invokeFunction('convertToInteractive',\n",
              "                                                     [key], {});\n",
              "          if (!dataTable) return;\n",
              "\n",
              "          const docLinkHtml = 'Like what you see? Visit the ' +\n",
              "            '<a target=\"_blank\" href=https://colab.research.google.com/notebooks/data_table.ipynb>data table notebook</a>'\n",
              "            + ' to learn more about interactive tables.';\n",
              "          element.innerHTML = '';\n",
              "          dataTable['output_type'] = 'display_data';\n",
              "          await google.colab.output.renderOutput(dataTable, element);\n",
              "          const docLink = document.createElement('div');\n",
              "          docLink.innerHTML = docLinkHtml;\n",
              "          element.appendChild(docLink);\n",
              "        }\n",
              "      </script>\n",
              "    </div>\n",
              "  </div>\n",
              "  "
            ]
          },
          "metadata": {},
          "execution_count": 48
        }
      ],
      "source": [
        "df_new.head()"
      ]
    },
    {
      "cell_type": "code",
      "execution_count": null,
      "metadata": {
        "id": "WqK7rqe_jGFW",
        "colab": {
          "base_uri": "https://localhost:8080/",
          "height": 387
        },
        "outputId": "bfbf846d-1c0d-4dbb-850d-8eedc953996a"
      },
      "outputs": [
        {
          "output_type": "execute_result",
          "data": {
            "text/plain": [
              "                               merchant        category gender        city  \\\n",
              "0                 fraud_Kirlin and Sons   personal_care      M    Columbia   \n",
              "1                  fraud_Sporer-Keebler   personal_care      F     Altonah   \n",
              "2  fraud_Swaniawski, Nitzsche and Welch  health_fitness      F    Bellmore   \n",
              "3                     fraud_Haley Group            misc      M  Titusville   \n",
              "4                 fraud_Johnston-Casper          travel      M    Falmouth   \n",
              "\n",
              "  state                  job     is_fraud   Transaction Category Age Category  \\\n",
              "0    SC  Mechanical engineer  Not a fraud  Afternoon Transaction          old   \n",
              "1    UT   Sales professional  Not a fraud  Afternoon Transaction  middle aged   \n",
              "2    NY            Librarian  Not a fraud  Afternoon Transaction        young   \n",
              "3    FL         Set designer  Not a fraud  Afternoon Transaction  middle aged   \n",
              "4    MI   Furniture designer  Not a fraud  Afternoon Transaction          old   \n",
              "\n",
              "   Distance Category  Population Category          Amt Category  \n",
              "0    nearby distance     Highly Populated   Sparsely Expensive   \n",
              "1  far away distance  Sparsely Populated   Moderately Expensive  \n",
              "2    nearby distance     Highly Populated  Moderately Expensive  \n",
              "3    nearby distance     Highly Populated  Moderately Expensive  \n",
              "4  far away distance  Sparsely Populated    Sparsely Expensive   "
            ],
            "text/html": [
              "\n",
              "  <div id=\"df-54cd5002-f218-4844-9837-508026a3f235\">\n",
              "    <div class=\"colab-df-container\">\n",
              "      <div>\n",
              "<style scoped>\n",
              "    .dataframe tbody tr th:only-of-type {\n",
              "        vertical-align: middle;\n",
              "    }\n",
              "\n",
              "    .dataframe tbody tr th {\n",
              "        vertical-align: top;\n",
              "    }\n",
              "\n",
              "    .dataframe thead th {\n",
              "        text-align: right;\n",
              "    }\n",
              "</style>\n",
              "<table border=\"1\" class=\"dataframe\">\n",
              "  <thead>\n",
              "    <tr style=\"text-align: right;\">\n",
              "      <th></th>\n",
              "      <th>merchant</th>\n",
              "      <th>category</th>\n",
              "      <th>gender</th>\n",
              "      <th>city</th>\n",
              "      <th>state</th>\n",
              "      <th>job</th>\n",
              "      <th>is_fraud</th>\n",
              "      <th>Transaction Category</th>\n",
              "      <th>Age Category</th>\n",
              "      <th>Distance Category</th>\n",
              "      <th>Population Category</th>\n",
              "      <th>Amt Category</th>\n",
              "    </tr>\n",
              "  </thead>\n",
              "  <tbody>\n",
              "    <tr>\n",
              "      <th>0</th>\n",
              "      <td>fraud_Kirlin and Sons</td>\n",
              "      <td>personal_care</td>\n",
              "      <td>M</td>\n",
              "      <td>Columbia</td>\n",
              "      <td>SC</td>\n",
              "      <td>Mechanical engineer</td>\n",
              "      <td>Not a fraud</td>\n",
              "      <td>Afternoon Transaction</td>\n",
              "      <td>old</td>\n",
              "      <td>nearby distance</td>\n",
              "      <td>Highly Populated</td>\n",
              "      <td>Sparsely Expensive</td>\n",
              "    </tr>\n",
              "    <tr>\n",
              "      <th>1</th>\n",
              "      <td>fraud_Sporer-Keebler</td>\n",
              "      <td>personal_care</td>\n",
              "      <td>F</td>\n",
              "      <td>Altonah</td>\n",
              "      <td>UT</td>\n",
              "      <td>Sales professional</td>\n",
              "      <td>Not a fraud</td>\n",
              "      <td>Afternoon Transaction</td>\n",
              "      <td>middle aged</td>\n",
              "      <td>far away distance</td>\n",
              "      <td>Sparsely Populated</td>\n",
              "      <td>Moderately Expensive</td>\n",
              "    </tr>\n",
              "    <tr>\n",
              "      <th>2</th>\n",
              "      <td>fraud_Swaniawski, Nitzsche and Welch</td>\n",
              "      <td>health_fitness</td>\n",
              "      <td>F</td>\n",
              "      <td>Bellmore</td>\n",
              "      <td>NY</td>\n",
              "      <td>Librarian</td>\n",
              "      <td>Not a fraud</td>\n",
              "      <td>Afternoon Transaction</td>\n",
              "      <td>young</td>\n",
              "      <td>nearby distance</td>\n",
              "      <td>Highly Populated</td>\n",
              "      <td>Moderately Expensive</td>\n",
              "    </tr>\n",
              "    <tr>\n",
              "      <th>3</th>\n",
              "      <td>fraud_Haley Group</td>\n",
              "      <td>misc</td>\n",
              "      <td>M</td>\n",
              "      <td>Titusville</td>\n",
              "      <td>FL</td>\n",
              "      <td>Set designer</td>\n",
              "      <td>Not a fraud</td>\n",
              "      <td>Afternoon Transaction</td>\n",
              "      <td>middle aged</td>\n",
              "      <td>nearby distance</td>\n",
              "      <td>Highly Populated</td>\n",
              "      <td>Moderately Expensive</td>\n",
              "    </tr>\n",
              "    <tr>\n",
              "      <th>4</th>\n",
              "      <td>fraud_Johnston-Casper</td>\n",
              "      <td>travel</td>\n",
              "      <td>M</td>\n",
              "      <td>Falmouth</td>\n",
              "      <td>MI</td>\n",
              "      <td>Furniture designer</td>\n",
              "      <td>Not a fraud</td>\n",
              "      <td>Afternoon Transaction</td>\n",
              "      <td>old</td>\n",
              "      <td>far away distance</td>\n",
              "      <td>Sparsely Populated</td>\n",
              "      <td>Sparsely Expensive</td>\n",
              "    </tr>\n",
              "  </tbody>\n",
              "</table>\n",
              "</div>\n",
              "      <button class=\"colab-df-convert\" onclick=\"convertToInteractive('df-54cd5002-f218-4844-9837-508026a3f235')\"\n",
              "              title=\"Convert this dataframe to an interactive table.\"\n",
              "              style=\"display:none;\">\n",
              "        \n",
              "  <svg xmlns=\"http://www.w3.org/2000/svg\" height=\"24px\"viewBox=\"0 0 24 24\"\n",
              "       width=\"24px\">\n",
              "    <path d=\"M0 0h24v24H0V0z\" fill=\"none\"/>\n",
              "    <path d=\"M18.56 5.44l.94 2.06.94-2.06 2.06-.94-2.06-.94-.94-2.06-.94 2.06-2.06.94zm-11 1L8.5 8.5l.94-2.06 2.06-.94-2.06-.94L8.5 2.5l-.94 2.06-2.06.94zm10 10l.94 2.06.94-2.06 2.06-.94-2.06-.94-.94-2.06-.94 2.06-2.06.94z\"/><path d=\"M17.41 7.96l-1.37-1.37c-.4-.4-.92-.59-1.43-.59-.52 0-1.04.2-1.43.59L10.3 9.45l-7.72 7.72c-.78.78-.78 2.05 0 2.83L4 21.41c.39.39.9.59 1.41.59.51 0 1.02-.2 1.41-.59l7.78-7.78 2.81-2.81c.8-.78.8-2.07 0-2.86zM5.41 20L4 18.59l7.72-7.72 1.47 1.35L5.41 20z\"/>\n",
              "  </svg>\n",
              "      </button>\n",
              "      \n",
              "  <style>\n",
              "    .colab-df-container {\n",
              "      display:flex;\n",
              "      flex-wrap:wrap;\n",
              "      gap: 12px;\n",
              "    }\n",
              "\n",
              "    .colab-df-convert {\n",
              "      background-color: #E8F0FE;\n",
              "      border: none;\n",
              "      border-radius: 50%;\n",
              "      cursor: pointer;\n",
              "      display: none;\n",
              "      fill: #1967D2;\n",
              "      height: 32px;\n",
              "      padding: 0 0 0 0;\n",
              "      width: 32px;\n",
              "    }\n",
              "\n",
              "    .colab-df-convert:hover {\n",
              "      background-color: #E2EBFA;\n",
              "      box-shadow: 0px 1px 2px rgba(60, 64, 67, 0.3), 0px 1px 3px 1px rgba(60, 64, 67, 0.15);\n",
              "      fill: #174EA6;\n",
              "    }\n",
              "\n",
              "    [theme=dark] .colab-df-convert {\n",
              "      background-color: #3B4455;\n",
              "      fill: #D2E3FC;\n",
              "    }\n",
              "\n",
              "    [theme=dark] .colab-df-convert:hover {\n",
              "      background-color: #434B5C;\n",
              "      box-shadow: 0px 1px 3px 1px rgba(0, 0, 0, 0.15);\n",
              "      filter: drop-shadow(0px 1px 2px rgba(0, 0, 0, 0.3));\n",
              "      fill: #FFFFFF;\n",
              "    }\n",
              "  </style>\n",
              "\n",
              "      <script>\n",
              "        const buttonEl =\n",
              "          document.querySelector('#df-54cd5002-f218-4844-9837-508026a3f235 button.colab-df-convert');\n",
              "        buttonEl.style.display =\n",
              "          google.colab.kernel.accessAllowed ? 'block' : 'none';\n",
              "\n",
              "        async function convertToInteractive(key) {\n",
              "          const element = document.querySelector('#df-54cd5002-f218-4844-9837-508026a3f235');\n",
              "          const dataTable =\n",
              "            await google.colab.kernel.invokeFunction('convertToInteractive',\n",
              "                                                     [key], {});\n",
              "          if (!dataTable) return;\n",
              "\n",
              "          const docLinkHtml = 'Like what you see? Visit the ' +\n",
              "            '<a target=\"_blank\" href=https://colab.research.google.com/notebooks/data_table.ipynb>data table notebook</a>'\n",
              "            + ' to learn more about interactive tables.';\n",
              "          element.innerHTML = '';\n",
              "          dataTable['output_type'] = 'display_data';\n",
              "          await google.colab.output.renderOutput(dataTable, element);\n",
              "          const docLink = document.createElement('div');\n",
              "          docLink.innerHTML = docLinkHtml;\n",
              "          element.appendChild(docLink);\n",
              "        }\n",
              "      </script>\n",
              "    </div>\n",
              "  </div>\n",
              "  "
            ]
          },
          "metadata": {},
          "execution_count": 49
        }
      ],
      "source": [
        "df_cat = df_new[['merchant', 'category','gender', 'city', 'state',\n",
        "       'job','is_fraud','Transaction Category', 'Age Category','Distance Category',\n",
        "       'Population Category', 'Amt Category' ]]\n",
        "df_cat.head()"
      ]
    },
    {
      "cell_type": "code",
      "execution_count": null,
      "metadata": {
        "id": "vP6vR-SbYF33",
        "colab": {
          "base_uri": "https://localhost:8080/"
        },
        "outputId": "19ec71ef-2d5f-4a02-b4c7-80de976c6854"
      },
      "outputs": [
        {
          "output_type": "stream",
          "name": "stderr",
          "text": [
            "/usr/local/lib/python3.7/dist-packages/ipykernel_launcher.py:4: SettingWithCopyWarning: \n",
            "A value is trying to be set on a copy of a slice from a DataFrame.\n",
            "Try using .loc[row_indexer,col_indexer] = value instead\n",
            "\n",
            "See the caveats in the documentation: https://pandas.pydata.org/pandas-docs/stable/user_guide/indexing.html#returning-a-view-versus-a-copy\n",
            "  after removing the cwd from sys.path.\n"
          ]
        }
      ],
      "source": [
        "merc = []\n",
        "for m in df_cat['merchant']:\n",
        "  merc.append(m.split(' ')[0])\n",
        "df_cat['merchant'] = merc"
      ]
    },
    {
      "cell_type": "code",
      "execution_count": null,
      "metadata": {
        "colab": {
          "base_uri": "https://localhost:8080/"
        },
        "id": "8aqNgxd9ktJL",
        "outputId": "a53f51d4-cec2-495e-deb4-e1e700fd124d"
      },
      "outputs": [
        {
          "output_type": "stream",
          "name": "stderr",
          "text": [
            "/usr/local/lib/python3.7/dist-packages/pandas/core/frame.py:4913: SettingWithCopyWarning: \n",
            "A value is trying to be set on a copy of a slice from a DataFrame\n",
            "\n",
            "See the caveats in the documentation: https://pandas.pydata.org/pandas-docs/stable/user_guide/indexing.html#returning-a-view-versus-a-copy\n",
            "  errors=errors,\n"
          ]
        }
      ],
      "source": [
        "df_cat.drop('merchant', axis=1, inplace=True)\n",
        "df_cat.drop('city', axis=1, inplace=True)"
      ]
    },
    {
      "cell_type": "code",
      "execution_count": null,
      "metadata": {
        "id": "PBd839q6YaB8",
        "colab": {
          "base_uri": "https://localhost:8080/",
          "height": 350
        },
        "outputId": "e9b90939-67c6-47b3-8805-3bf95c6069a7"
      },
      "outputs": [
        {
          "output_type": "execute_result",
          "data": {
            "text/plain": [
              "         category gender state                  job     is_fraud  \\\n",
              "0   personal_care      M    SC  Mechanical engineer  Not a fraud   \n",
              "1   personal_care      F    UT   Sales professional  Not a fraud   \n",
              "2  health_fitness      F    NY            Librarian  Not a fraud   \n",
              "3            misc      M    FL         Set designer  Not a fraud   \n",
              "4          travel      M    MI   Furniture designer  Not a fraud   \n",
              "\n",
              "    Transaction Category Age Category  Distance Category  Population Category  \\\n",
              "0  Afternoon Transaction          old    nearby distance     Highly Populated   \n",
              "1  Afternoon Transaction  middle aged  far away distance  Sparsely Populated    \n",
              "2  Afternoon Transaction        young    nearby distance     Highly Populated   \n",
              "3  Afternoon Transaction  middle aged    nearby distance     Highly Populated   \n",
              "4  Afternoon Transaction          old  far away distance  Sparsely Populated    \n",
              "\n",
              "           Amt Category  \n",
              "0   Sparsely Expensive   \n",
              "1  Moderately Expensive  \n",
              "2  Moderately Expensive  \n",
              "3  Moderately Expensive  \n",
              "4   Sparsely Expensive   "
            ],
            "text/html": [
              "\n",
              "  <div id=\"df-26f3456d-2bd0-4bce-bea0-c55126c4d51e\">\n",
              "    <div class=\"colab-df-container\">\n",
              "      <div>\n",
              "<style scoped>\n",
              "    .dataframe tbody tr th:only-of-type {\n",
              "        vertical-align: middle;\n",
              "    }\n",
              "\n",
              "    .dataframe tbody tr th {\n",
              "        vertical-align: top;\n",
              "    }\n",
              "\n",
              "    .dataframe thead th {\n",
              "        text-align: right;\n",
              "    }\n",
              "</style>\n",
              "<table border=\"1\" class=\"dataframe\">\n",
              "  <thead>\n",
              "    <tr style=\"text-align: right;\">\n",
              "      <th></th>\n",
              "      <th>category</th>\n",
              "      <th>gender</th>\n",
              "      <th>state</th>\n",
              "      <th>job</th>\n",
              "      <th>is_fraud</th>\n",
              "      <th>Transaction Category</th>\n",
              "      <th>Age Category</th>\n",
              "      <th>Distance Category</th>\n",
              "      <th>Population Category</th>\n",
              "      <th>Amt Category</th>\n",
              "    </tr>\n",
              "  </thead>\n",
              "  <tbody>\n",
              "    <tr>\n",
              "      <th>0</th>\n",
              "      <td>personal_care</td>\n",
              "      <td>M</td>\n",
              "      <td>SC</td>\n",
              "      <td>Mechanical engineer</td>\n",
              "      <td>Not a fraud</td>\n",
              "      <td>Afternoon Transaction</td>\n",
              "      <td>old</td>\n",
              "      <td>nearby distance</td>\n",
              "      <td>Highly Populated</td>\n",
              "      <td>Sparsely Expensive</td>\n",
              "    </tr>\n",
              "    <tr>\n",
              "      <th>1</th>\n",
              "      <td>personal_care</td>\n",
              "      <td>F</td>\n",
              "      <td>UT</td>\n",
              "      <td>Sales professional</td>\n",
              "      <td>Not a fraud</td>\n",
              "      <td>Afternoon Transaction</td>\n",
              "      <td>middle aged</td>\n",
              "      <td>far away distance</td>\n",
              "      <td>Sparsely Populated</td>\n",
              "      <td>Moderately Expensive</td>\n",
              "    </tr>\n",
              "    <tr>\n",
              "      <th>2</th>\n",
              "      <td>health_fitness</td>\n",
              "      <td>F</td>\n",
              "      <td>NY</td>\n",
              "      <td>Librarian</td>\n",
              "      <td>Not a fraud</td>\n",
              "      <td>Afternoon Transaction</td>\n",
              "      <td>young</td>\n",
              "      <td>nearby distance</td>\n",
              "      <td>Highly Populated</td>\n",
              "      <td>Moderately Expensive</td>\n",
              "    </tr>\n",
              "    <tr>\n",
              "      <th>3</th>\n",
              "      <td>misc</td>\n",
              "      <td>M</td>\n",
              "      <td>FL</td>\n",
              "      <td>Set designer</td>\n",
              "      <td>Not a fraud</td>\n",
              "      <td>Afternoon Transaction</td>\n",
              "      <td>middle aged</td>\n",
              "      <td>nearby distance</td>\n",
              "      <td>Highly Populated</td>\n",
              "      <td>Moderately Expensive</td>\n",
              "    </tr>\n",
              "    <tr>\n",
              "      <th>4</th>\n",
              "      <td>travel</td>\n",
              "      <td>M</td>\n",
              "      <td>MI</td>\n",
              "      <td>Furniture designer</td>\n",
              "      <td>Not a fraud</td>\n",
              "      <td>Afternoon Transaction</td>\n",
              "      <td>old</td>\n",
              "      <td>far away distance</td>\n",
              "      <td>Sparsely Populated</td>\n",
              "      <td>Sparsely Expensive</td>\n",
              "    </tr>\n",
              "  </tbody>\n",
              "</table>\n",
              "</div>\n",
              "      <button class=\"colab-df-convert\" onclick=\"convertToInteractive('df-26f3456d-2bd0-4bce-bea0-c55126c4d51e')\"\n",
              "              title=\"Convert this dataframe to an interactive table.\"\n",
              "              style=\"display:none;\">\n",
              "        \n",
              "  <svg xmlns=\"http://www.w3.org/2000/svg\" height=\"24px\"viewBox=\"0 0 24 24\"\n",
              "       width=\"24px\">\n",
              "    <path d=\"M0 0h24v24H0V0z\" fill=\"none\"/>\n",
              "    <path d=\"M18.56 5.44l.94 2.06.94-2.06 2.06-.94-2.06-.94-.94-2.06-.94 2.06-2.06.94zm-11 1L8.5 8.5l.94-2.06 2.06-.94-2.06-.94L8.5 2.5l-.94 2.06-2.06.94zm10 10l.94 2.06.94-2.06 2.06-.94-2.06-.94-.94-2.06-.94 2.06-2.06.94z\"/><path d=\"M17.41 7.96l-1.37-1.37c-.4-.4-.92-.59-1.43-.59-.52 0-1.04.2-1.43.59L10.3 9.45l-7.72 7.72c-.78.78-.78 2.05 0 2.83L4 21.41c.39.39.9.59 1.41.59.51 0 1.02-.2 1.41-.59l7.78-7.78 2.81-2.81c.8-.78.8-2.07 0-2.86zM5.41 20L4 18.59l7.72-7.72 1.47 1.35L5.41 20z\"/>\n",
              "  </svg>\n",
              "      </button>\n",
              "      \n",
              "  <style>\n",
              "    .colab-df-container {\n",
              "      display:flex;\n",
              "      flex-wrap:wrap;\n",
              "      gap: 12px;\n",
              "    }\n",
              "\n",
              "    .colab-df-convert {\n",
              "      background-color: #E8F0FE;\n",
              "      border: none;\n",
              "      border-radius: 50%;\n",
              "      cursor: pointer;\n",
              "      display: none;\n",
              "      fill: #1967D2;\n",
              "      height: 32px;\n",
              "      padding: 0 0 0 0;\n",
              "      width: 32px;\n",
              "    }\n",
              "\n",
              "    .colab-df-convert:hover {\n",
              "      background-color: #E2EBFA;\n",
              "      box-shadow: 0px 1px 2px rgba(60, 64, 67, 0.3), 0px 1px 3px 1px rgba(60, 64, 67, 0.15);\n",
              "      fill: #174EA6;\n",
              "    }\n",
              "\n",
              "    [theme=dark] .colab-df-convert {\n",
              "      background-color: #3B4455;\n",
              "      fill: #D2E3FC;\n",
              "    }\n",
              "\n",
              "    [theme=dark] .colab-df-convert:hover {\n",
              "      background-color: #434B5C;\n",
              "      box-shadow: 0px 1px 3px 1px rgba(0, 0, 0, 0.15);\n",
              "      filter: drop-shadow(0px 1px 2px rgba(0, 0, 0, 0.3));\n",
              "      fill: #FFFFFF;\n",
              "    }\n",
              "  </style>\n",
              "\n",
              "      <script>\n",
              "        const buttonEl =\n",
              "          document.querySelector('#df-26f3456d-2bd0-4bce-bea0-c55126c4d51e button.colab-df-convert');\n",
              "        buttonEl.style.display =\n",
              "          google.colab.kernel.accessAllowed ? 'block' : 'none';\n",
              "\n",
              "        async function convertToInteractive(key) {\n",
              "          const element = document.querySelector('#df-26f3456d-2bd0-4bce-bea0-c55126c4d51e');\n",
              "          const dataTable =\n",
              "            await google.colab.kernel.invokeFunction('convertToInteractive',\n",
              "                                                     [key], {});\n",
              "          if (!dataTable) return;\n",
              "\n",
              "          const docLinkHtml = 'Like what you see? Visit the ' +\n",
              "            '<a target=\"_blank\" href=https://colab.research.google.com/notebooks/data_table.ipynb>data table notebook</a>'\n",
              "            + ' to learn more about interactive tables.';\n",
              "          element.innerHTML = '';\n",
              "          dataTable['output_type'] = 'display_data';\n",
              "          await google.colab.output.renderOutput(dataTable, element);\n",
              "          const docLink = document.createElement('div');\n",
              "          docLink.innerHTML = docLinkHtml;\n",
              "          element.appendChild(docLink);\n",
              "        }\n",
              "      </script>\n",
              "    </div>\n",
              "  </div>\n",
              "  "
            ]
          },
          "metadata": {},
          "execution_count": 52
        }
      ],
      "source": [
        "df_cat.head()"
      ]
    },
    {
      "cell_type": "code",
      "execution_count": null,
      "metadata": {
        "id": "QG_TddTKldDE",
        "colab": {
          "base_uri": "https://localhost:8080/"
        },
        "outputId": "d60adfb2-db39-4124-fdeb-81ec300d9483"
      },
      "outputs": [
        {
          "output_type": "execute_result",
          "data": {
            "text/plain": [
              "2138"
            ]
          },
          "metadata": {},
          "execution_count": 107
        }
      ],
      "source": [
        "df_cat_fraud = df_cat[df_cat['is_fraud'] == 'Fraud']\n",
        "len(df_cat_fraud)"
      ]
    },
    {
      "cell_type": "code",
      "source": [
        "#sample 50k datapoints stratified\n",
        "df_sample = df_cat.sample(n = 2000)\n",
        "df_sample = df_sample.append(df_cat_fraud)"
      ],
      "metadata": {
        "id": "WsJ7uv0WZuw5"
      },
      "execution_count": null,
      "outputs": []
    },
    {
      "cell_type": "code",
      "execution_count": null,
      "metadata": {
        "id": "9HqvzEq1KU94",
        "colab": {
          "base_uri": "https://localhost:8080/"
        },
        "outputId": "f5b658ae-2878-4f43-fbdc-bab88b9bea3d"
      },
      "outputs": [
        {
          "output_type": "execute_result",
          "data": {
            "text/plain": [
              "Index(['category', 'gender', 'state', 'job', 'is_fraud',\n",
              "       'Transaction Category', 'Age Category', 'Distance Category',\n",
              "       'Population Category', 'Amt Category'],\n",
              "      dtype='object')"
            ]
          },
          "metadata": {},
          "execution_count": 119
        }
      ],
      "source": [
        "df_sample.columns"
      ]
    },
    {
      "cell_type": "code",
      "execution_count": null,
      "metadata": {
        "id": "gBeyitUPYwLZ"
      },
      "outputs": [],
      "source": [
        "from sklearn.preprocessing import OneHotEncoder\n",
        "from sklearn.preprocessing import LabelEncoder\n",
        "from mlxtend.preprocessing import TransactionEncoder\n",
        "#!pip install mlxtend.frequent_patterns.fpgrowth\n",
        "#from mlxtend.frequent_patterns import apriori, fpmax, fpgrowth"
      ]
    },
    {
      "cell_type": "markdown",
      "source": [],
      "metadata": {
        "id": "gpYKFlieUU_f"
      }
    },
    {
      "cell_type": "code",
      "execution_count": null,
      "metadata": {
        "id": "ZJxhk7SWZaxX"
      },
      "outputs": [],
      "source": [
        "from sklearn.preprocessing import OneHotEncoder\n",
        "from sklearn.preprocessing import LabelEncoder\n",
        "from mlxtend.preprocessing import TransactionEncoder\n",
        "ohenc = OneHotEncoder()\n",
        "ohenc.fit(df_sample)\n",
        "#ohenc.fit(df_cat)\n",
        "df_ohenc = ohenc.transform(df_sample)\n",
        "#df_ohenc = ohenc.transform(df_cat)"
      ]
    },
    {
      "cell_type": "code",
      "execution_count": null,
      "metadata": {
        "id": "EjhZr9gvZfsI",
        "colab": {
          "base_uri": "https://localhost:8080/"
        },
        "outputId": "198b6c6a-5e85-4ba1-b342-588482dbec00"
      },
      "outputs": [
        {
          "output_type": "execute_result",
          "data": {
            "text/plain": [
              "<4138x437 sparse matrix of type '<class 'numpy.float64'>'\n",
              "\twith 41380 stored elements in Compressed Sparse Row format>"
            ]
          },
          "metadata": {},
          "execution_count": 122
        }
      ],
      "source": [
        "df_ohenc"
      ]
    },
    {
      "cell_type": "code",
      "execution_count": null,
      "metadata": {
        "id": "wNTSHDrxbAWA",
        "colab": {
          "base_uri": "https://localhost:8080/"
        },
        "outputId": "165d32df-160e-4f30-856c-6688d8b555e2"
      },
      "outputs": [
        {
          "output_type": "stream",
          "name": "stderr",
          "text": [
            "/usr/local/lib/python3.7/dist-packages/sklearn/utils/deprecation.py:87: FutureWarning: Function get_feature_names is deprecated; get_feature_names is deprecated in 1.0 and will be removed in 1.2. Please use get_feature_names_out instead.\n",
            "  warnings.warn(msg, category=FutureWarning)\n"
          ]
        }
      ],
      "source": [
        "ohenc.get_feature_names()\n",
        "df_ohenc.columns = ohenc.get_feature_names()"
      ]
    },
    {
      "cell_type": "code",
      "execution_count": null,
      "metadata": {
        "id": "hbkMh_-0c1Ac"
      },
      "outputs": [],
      "source": [
        "df_final = pd.DataFrame(df_ohenc.toarray())"
      ]
    },
    {
      "cell_type": "code",
      "execution_count": null,
      "metadata": {
        "id": "sEmWfGlLdWKY"
      },
      "outputs": [],
      "source": [
        "df_final.columns = ohenc.get_feature_names()\n"
      ]
    },
    {
      "cell_type": "code",
      "execution_count": null,
      "metadata": {
        "id": "1AYJnSNtiQvj",
        "colab": {
          "base_uri": "https://localhost:8080/",
          "height": 517
        },
        "outputId": "b3bb59e9-1a32-46cb-fccd-6128990619f2"
      },
      "outputs": [
        {
          "output_type": "execute_result",
          "data": {
            "text/plain": [
              "      x0_entertainment  x0_food_dining  x0_gas_transport  x0_grocery  \\\n",
              "0                  1.0             0.0               0.0         0.0   \n",
              "1                  1.0             0.0               0.0         0.0   \n",
              "2                  0.0             0.0               0.0         0.0   \n",
              "3                  1.0             0.0               0.0         0.0   \n",
              "4                  0.0             0.0               0.0         0.0   \n",
              "...                ...             ...               ...         ...   \n",
              "4133               0.0             0.0               0.0         0.0   \n",
              "4134               0.0             0.0               0.0         0.0   \n",
              "4135               0.0             0.0               0.0         0.0   \n",
              "4136               0.0             0.0               0.0         1.0   \n",
              "4137               0.0             0.0               0.0         0.0   \n",
              "\n",
              "      x0_health_fitness  x0_home  x0_kids_pets  x0_misc  x0_personal_care  \\\n",
              "0                   0.0      0.0           0.0      0.0               0.0   \n",
              "1                   0.0      0.0           0.0      0.0               0.0   \n",
              "2                   0.0      0.0           0.0      0.0               1.0   \n",
              "3                   0.0      0.0           0.0      0.0               0.0   \n",
              "4                   0.0      0.0           0.0      0.0               0.0   \n",
              "...                 ...      ...           ...      ...               ...   \n",
              "4133                0.0      0.0           0.0      0.0               0.0   \n",
              "4134                0.0      0.0           0.0      0.0               0.0   \n",
              "4135                0.0      0.0           0.0      0.0               0.0   \n",
              "4136                0.0      0.0           0.0      0.0               0.0   \n",
              "4137                0.0      0.0           0.0      1.0               0.0   \n",
              "\n",
              "      x0_shopping_net  ...  x6_young  x7_far away distance  \\\n",
              "0                 0.0  ...       0.0                   0.0   \n",
              "1                 0.0  ...       1.0                   1.0   \n",
              "2                 0.0  ...       1.0                   1.0   \n",
              "3                 0.0  ...       0.0                   1.0   \n",
              "4                 0.0  ...       0.0                   0.0   \n",
              "...               ...  ...       ...                   ...   \n",
              "4133              0.0  ...       0.0                   0.0   \n",
              "4134              0.0  ...       0.0                   0.0   \n",
              "4135              1.0  ...       0.0                   0.0   \n",
              "4136              0.0  ...       0.0                   0.0   \n",
              "4137              0.0  ...       0.0                   1.0   \n",
              "\n",
              "      x7_moderate distance  x7_nearby distance  x8_Highly Populated  \\\n",
              "0                      1.0                 0.0                  0.0   \n",
              "1                      0.0                 0.0                  0.0   \n",
              "2                      0.0                 0.0                  0.0   \n",
              "3                      0.0                 0.0                  0.0   \n",
              "4                      0.0                 1.0                  0.0   \n",
              "...                    ...                 ...                  ...   \n",
              "4133                   0.0                 1.0                  1.0   \n",
              "4134                   1.0                 0.0                  1.0   \n",
              "4135                   0.0                 1.0                  1.0   \n",
              "4136                   0.0                 1.0                  1.0   \n",
              "4137                   0.0                 0.0                  1.0   \n",
              "\n",
              "      x8_Moderately Polulated  x8_Sparsely Populated   x9_Highly Expensive  \\\n",
              "0                         0.0                     1.0                  1.0   \n",
              "1                         1.0                     0.0                  0.0   \n",
              "2                         0.0                     1.0                  1.0   \n",
              "3                         1.0                     0.0                  0.0   \n",
              "4                         1.0                     0.0                  0.0   \n",
              "...                       ...                     ...                  ...   \n",
              "4133                      0.0                     0.0                  1.0   \n",
              "4134                      0.0                     0.0                  1.0   \n",
              "4135                      0.0                     0.0                  1.0   \n",
              "4136                      0.0                     0.0                  1.0   \n",
              "4137                      0.0                     0.0                  1.0   \n",
              "\n",
              "      x9_Moderately Expensive  x9_Sparsely Expensive   \n",
              "0                         0.0                     0.0  \n",
              "1                         1.0                     0.0  \n",
              "2                         0.0                     0.0  \n",
              "3                         1.0                     0.0  \n",
              "4                         0.0                     1.0  \n",
              "...                       ...                     ...  \n",
              "4133                      0.0                     0.0  \n",
              "4134                      0.0                     0.0  \n",
              "4135                      0.0                     0.0  \n",
              "4136                      0.0                     0.0  \n",
              "4137                      0.0                     0.0  \n",
              "\n",
              "[4138 rows x 437 columns]"
            ],
            "text/html": [
              "\n",
              "  <div id=\"df-530a2ca1-5f2b-4bc9-862c-22b9f396e97d\">\n",
              "    <div class=\"colab-df-container\">\n",
              "      <div>\n",
              "<style scoped>\n",
              "    .dataframe tbody tr th:only-of-type {\n",
              "        vertical-align: middle;\n",
              "    }\n",
              "\n",
              "    .dataframe tbody tr th {\n",
              "        vertical-align: top;\n",
              "    }\n",
              "\n",
              "    .dataframe thead th {\n",
              "        text-align: right;\n",
              "    }\n",
              "</style>\n",
              "<table border=\"1\" class=\"dataframe\">\n",
              "  <thead>\n",
              "    <tr style=\"text-align: right;\">\n",
              "      <th></th>\n",
              "      <th>x0_entertainment</th>\n",
              "      <th>x0_food_dining</th>\n",
              "      <th>x0_gas_transport</th>\n",
              "      <th>x0_grocery</th>\n",
              "      <th>x0_health_fitness</th>\n",
              "      <th>x0_home</th>\n",
              "      <th>x0_kids_pets</th>\n",
              "      <th>x0_misc</th>\n",
              "      <th>x0_personal_care</th>\n",
              "      <th>x0_shopping_net</th>\n",
              "      <th>...</th>\n",
              "      <th>x6_young</th>\n",
              "      <th>x7_far away distance</th>\n",
              "      <th>x7_moderate distance</th>\n",
              "      <th>x7_nearby distance</th>\n",
              "      <th>x8_Highly Populated</th>\n",
              "      <th>x8_Moderately Polulated</th>\n",
              "      <th>x8_Sparsely Populated</th>\n",
              "      <th>x9_Highly Expensive</th>\n",
              "      <th>x9_Moderately Expensive</th>\n",
              "      <th>x9_Sparsely Expensive</th>\n",
              "    </tr>\n",
              "  </thead>\n",
              "  <tbody>\n",
              "    <tr>\n",
              "      <th>0</th>\n",
              "      <td>1.0</td>\n",
              "      <td>0.0</td>\n",
              "      <td>0.0</td>\n",
              "      <td>0.0</td>\n",
              "      <td>0.0</td>\n",
              "      <td>0.0</td>\n",
              "      <td>0.0</td>\n",
              "      <td>0.0</td>\n",
              "      <td>0.0</td>\n",
              "      <td>0.0</td>\n",
              "      <td>...</td>\n",
              "      <td>0.0</td>\n",
              "      <td>0.0</td>\n",
              "      <td>1.0</td>\n",
              "      <td>0.0</td>\n",
              "      <td>0.0</td>\n",
              "      <td>0.0</td>\n",
              "      <td>1.0</td>\n",
              "      <td>1.0</td>\n",
              "      <td>0.0</td>\n",
              "      <td>0.0</td>\n",
              "    </tr>\n",
              "    <tr>\n",
              "      <th>1</th>\n",
              "      <td>1.0</td>\n",
              "      <td>0.0</td>\n",
              "      <td>0.0</td>\n",
              "      <td>0.0</td>\n",
              "      <td>0.0</td>\n",
              "      <td>0.0</td>\n",
              "      <td>0.0</td>\n",
              "      <td>0.0</td>\n",
              "      <td>0.0</td>\n",
              "      <td>0.0</td>\n",
              "      <td>...</td>\n",
              "      <td>1.0</td>\n",
              "      <td>1.0</td>\n",
              "      <td>0.0</td>\n",
              "      <td>0.0</td>\n",
              "      <td>0.0</td>\n",
              "      <td>1.0</td>\n",
              "      <td>0.0</td>\n",
              "      <td>0.0</td>\n",
              "      <td>1.0</td>\n",
              "      <td>0.0</td>\n",
              "    </tr>\n",
              "    <tr>\n",
              "      <th>2</th>\n",
              "      <td>0.0</td>\n",
              "      <td>0.0</td>\n",
              "      <td>0.0</td>\n",
              "      <td>0.0</td>\n",
              "      <td>0.0</td>\n",
              "      <td>0.0</td>\n",
              "      <td>0.0</td>\n",
              "      <td>0.0</td>\n",
              "      <td>1.0</td>\n",
              "      <td>0.0</td>\n",
              "      <td>...</td>\n",
              "      <td>1.0</td>\n",
              "      <td>1.0</td>\n",
              "      <td>0.0</td>\n",
              "      <td>0.0</td>\n",
              "      <td>0.0</td>\n",
              "      <td>0.0</td>\n",
              "      <td>1.0</td>\n",
              "      <td>1.0</td>\n",
              "      <td>0.0</td>\n",
              "      <td>0.0</td>\n",
              "    </tr>\n",
              "    <tr>\n",
              "      <th>3</th>\n",
              "      <td>1.0</td>\n",
              "      <td>0.0</td>\n",
              "      <td>0.0</td>\n",
              "      <td>0.0</td>\n",
              "      <td>0.0</td>\n",
              "      <td>0.0</td>\n",
              "      <td>0.0</td>\n",
              "      <td>0.0</td>\n",
              "      <td>0.0</td>\n",
              "      <td>0.0</td>\n",
              "      <td>...</td>\n",
              "      <td>0.0</td>\n",
              "      <td>1.0</td>\n",
              "      <td>0.0</td>\n",
              "      <td>0.0</td>\n",
              "      <td>0.0</td>\n",
              "      <td>1.0</td>\n",
              "      <td>0.0</td>\n",
              "      <td>0.0</td>\n",
              "      <td>1.0</td>\n",
              "      <td>0.0</td>\n",
              "    </tr>\n",
              "    <tr>\n",
              "      <th>4</th>\n",
              "      <td>0.0</td>\n",
              "      <td>0.0</td>\n",
              "      <td>0.0</td>\n",
              "      <td>0.0</td>\n",
              "      <td>0.0</td>\n",
              "      <td>0.0</td>\n",
              "      <td>0.0</td>\n",
              "      <td>0.0</td>\n",
              "      <td>0.0</td>\n",
              "      <td>0.0</td>\n",
              "      <td>...</td>\n",
              "      <td>0.0</td>\n",
              "      <td>0.0</td>\n",
              "      <td>0.0</td>\n",
              "      <td>1.0</td>\n",
              "      <td>0.0</td>\n",
              "      <td>1.0</td>\n",
              "      <td>0.0</td>\n",
              "      <td>0.0</td>\n",
              "      <td>0.0</td>\n",
              "      <td>1.0</td>\n",
              "    </tr>\n",
              "    <tr>\n",
              "      <th>...</th>\n",
              "      <td>...</td>\n",
              "      <td>...</td>\n",
              "      <td>...</td>\n",
              "      <td>...</td>\n",
              "      <td>...</td>\n",
              "      <td>...</td>\n",
              "      <td>...</td>\n",
              "      <td>...</td>\n",
              "      <td>...</td>\n",
              "      <td>...</td>\n",
              "      <td>...</td>\n",
              "      <td>...</td>\n",
              "      <td>...</td>\n",
              "      <td>...</td>\n",
              "      <td>...</td>\n",
              "      <td>...</td>\n",
              "      <td>...</td>\n",
              "      <td>...</td>\n",
              "      <td>...</td>\n",
              "      <td>...</td>\n",
              "      <td>...</td>\n",
              "    </tr>\n",
              "    <tr>\n",
              "      <th>4133</th>\n",
              "      <td>0.0</td>\n",
              "      <td>0.0</td>\n",
              "      <td>0.0</td>\n",
              "      <td>0.0</td>\n",
              "      <td>0.0</td>\n",
              "      <td>0.0</td>\n",
              "      <td>0.0</td>\n",
              "      <td>0.0</td>\n",
              "      <td>0.0</td>\n",
              "      <td>0.0</td>\n",
              "      <td>...</td>\n",
              "      <td>0.0</td>\n",
              "      <td>0.0</td>\n",
              "      <td>0.0</td>\n",
              "      <td>1.0</td>\n",
              "      <td>1.0</td>\n",
              "      <td>0.0</td>\n",
              "      <td>0.0</td>\n",
              "      <td>1.0</td>\n",
              "      <td>0.0</td>\n",
              "      <td>0.0</td>\n",
              "    </tr>\n",
              "    <tr>\n",
              "      <th>4134</th>\n",
              "      <td>0.0</td>\n",
              "      <td>0.0</td>\n",
              "      <td>0.0</td>\n",
              "      <td>0.0</td>\n",
              "      <td>0.0</td>\n",
              "      <td>0.0</td>\n",
              "      <td>0.0</td>\n",
              "      <td>0.0</td>\n",
              "      <td>0.0</td>\n",
              "      <td>0.0</td>\n",
              "      <td>...</td>\n",
              "      <td>0.0</td>\n",
              "      <td>0.0</td>\n",
              "      <td>1.0</td>\n",
              "      <td>0.0</td>\n",
              "      <td>1.0</td>\n",
              "      <td>0.0</td>\n",
              "      <td>0.0</td>\n",
              "      <td>1.0</td>\n",
              "      <td>0.0</td>\n",
              "      <td>0.0</td>\n",
              "    </tr>\n",
              "    <tr>\n",
              "      <th>4135</th>\n",
              "      <td>0.0</td>\n",
              "      <td>0.0</td>\n",
              "      <td>0.0</td>\n",
              "      <td>0.0</td>\n",
              "      <td>0.0</td>\n",
              "      <td>0.0</td>\n",
              "      <td>0.0</td>\n",
              "      <td>0.0</td>\n",
              "      <td>0.0</td>\n",
              "      <td>1.0</td>\n",
              "      <td>...</td>\n",
              "      <td>0.0</td>\n",
              "      <td>0.0</td>\n",
              "      <td>0.0</td>\n",
              "      <td>1.0</td>\n",
              "      <td>1.0</td>\n",
              "      <td>0.0</td>\n",
              "      <td>0.0</td>\n",
              "      <td>1.0</td>\n",
              "      <td>0.0</td>\n",
              "      <td>0.0</td>\n",
              "    </tr>\n",
              "    <tr>\n",
              "      <th>4136</th>\n",
              "      <td>0.0</td>\n",
              "      <td>0.0</td>\n",
              "      <td>0.0</td>\n",
              "      <td>1.0</td>\n",
              "      <td>0.0</td>\n",
              "      <td>0.0</td>\n",
              "      <td>0.0</td>\n",
              "      <td>0.0</td>\n",
              "      <td>0.0</td>\n",
              "      <td>0.0</td>\n",
              "      <td>...</td>\n",
              "      <td>0.0</td>\n",
              "      <td>0.0</td>\n",
              "      <td>0.0</td>\n",
              "      <td>1.0</td>\n",
              "      <td>1.0</td>\n",
              "      <td>0.0</td>\n",
              "      <td>0.0</td>\n",
              "      <td>1.0</td>\n",
              "      <td>0.0</td>\n",
              "      <td>0.0</td>\n",
              "    </tr>\n",
              "    <tr>\n",
              "      <th>4137</th>\n",
              "      <td>0.0</td>\n",
              "      <td>0.0</td>\n",
              "      <td>0.0</td>\n",
              "      <td>0.0</td>\n",
              "      <td>0.0</td>\n",
              "      <td>0.0</td>\n",
              "      <td>0.0</td>\n",
              "      <td>1.0</td>\n",
              "      <td>0.0</td>\n",
              "      <td>0.0</td>\n",
              "      <td>...</td>\n",
              "      <td>0.0</td>\n",
              "      <td>1.0</td>\n",
              "      <td>0.0</td>\n",
              "      <td>0.0</td>\n",
              "      <td>1.0</td>\n",
              "      <td>0.0</td>\n",
              "      <td>0.0</td>\n",
              "      <td>1.0</td>\n",
              "      <td>0.0</td>\n",
              "      <td>0.0</td>\n",
              "    </tr>\n",
              "  </tbody>\n",
              "</table>\n",
              "<p>4138 rows × 437 columns</p>\n",
              "</div>\n",
              "      <button class=\"colab-df-convert\" onclick=\"convertToInteractive('df-530a2ca1-5f2b-4bc9-862c-22b9f396e97d')\"\n",
              "              title=\"Convert this dataframe to an interactive table.\"\n",
              "              style=\"display:none;\">\n",
              "        \n",
              "  <svg xmlns=\"http://www.w3.org/2000/svg\" height=\"24px\"viewBox=\"0 0 24 24\"\n",
              "       width=\"24px\">\n",
              "    <path d=\"M0 0h24v24H0V0z\" fill=\"none\"/>\n",
              "    <path d=\"M18.56 5.44l.94 2.06.94-2.06 2.06-.94-2.06-.94-.94-2.06-.94 2.06-2.06.94zm-11 1L8.5 8.5l.94-2.06 2.06-.94-2.06-.94L8.5 2.5l-.94 2.06-2.06.94zm10 10l.94 2.06.94-2.06 2.06-.94-2.06-.94-.94-2.06-.94 2.06-2.06.94z\"/><path d=\"M17.41 7.96l-1.37-1.37c-.4-.4-.92-.59-1.43-.59-.52 0-1.04.2-1.43.59L10.3 9.45l-7.72 7.72c-.78.78-.78 2.05 0 2.83L4 21.41c.39.39.9.59 1.41.59.51 0 1.02-.2 1.41-.59l7.78-7.78 2.81-2.81c.8-.78.8-2.07 0-2.86zM5.41 20L4 18.59l7.72-7.72 1.47 1.35L5.41 20z\"/>\n",
              "  </svg>\n",
              "      </button>\n",
              "      \n",
              "  <style>\n",
              "    .colab-df-container {\n",
              "      display:flex;\n",
              "      flex-wrap:wrap;\n",
              "      gap: 12px;\n",
              "    }\n",
              "\n",
              "    .colab-df-convert {\n",
              "      background-color: #E8F0FE;\n",
              "      border: none;\n",
              "      border-radius: 50%;\n",
              "      cursor: pointer;\n",
              "      display: none;\n",
              "      fill: #1967D2;\n",
              "      height: 32px;\n",
              "      padding: 0 0 0 0;\n",
              "      width: 32px;\n",
              "    }\n",
              "\n",
              "    .colab-df-convert:hover {\n",
              "      background-color: #E2EBFA;\n",
              "      box-shadow: 0px 1px 2px rgba(60, 64, 67, 0.3), 0px 1px 3px 1px rgba(60, 64, 67, 0.15);\n",
              "      fill: #174EA6;\n",
              "    }\n",
              "\n",
              "    [theme=dark] .colab-df-convert {\n",
              "      background-color: #3B4455;\n",
              "      fill: #D2E3FC;\n",
              "    }\n",
              "\n",
              "    [theme=dark] .colab-df-convert:hover {\n",
              "      background-color: #434B5C;\n",
              "      box-shadow: 0px 1px 3px 1px rgba(0, 0, 0, 0.15);\n",
              "      filter: drop-shadow(0px 1px 2px rgba(0, 0, 0, 0.3));\n",
              "      fill: #FFFFFF;\n",
              "    }\n",
              "  </style>\n",
              "\n",
              "      <script>\n",
              "        const buttonEl =\n",
              "          document.querySelector('#df-530a2ca1-5f2b-4bc9-862c-22b9f396e97d button.colab-df-convert');\n",
              "        buttonEl.style.display =\n",
              "          google.colab.kernel.accessAllowed ? 'block' : 'none';\n",
              "\n",
              "        async function convertToInteractive(key) {\n",
              "          const element = document.querySelector('#df-530a2ca1-5f2b-4bc9-862c-22b9f396e97d');\n",
              "          const dataTable =\n",
              "            await google.colab.kernel.invokeFunction('convertToInteractive',\n",
              "                                                     [key], {});\n",
              "          if (!dataTable) return;\n",
              "\n",
              "          const docLinkHtml = 'Like what you see? Visit the ' +\n",
              "            '<a target=\"_blank\" href=https://colab.research.google.com/notebooks/data_table.ipynb>data table notebook</a>'\n",
              "            + ' to learn more about interactive tables.';\n",
              "          element.innerHTML = '';\n",
              "          dataTable['output_type'] = 'display_data';\n",
              "          await google.colab.output.renderOutput(dataTable, element);\n",
              "          const docLink = document.createElement('div');\n",
              "          docLink.innerHTML = docLinkHtml;\n",
              "          element.appendChild(docLink);\n",
              "        }\n",
              "      </script>\n",
              "    </div>\n",
              "  </div>\n",
              "  "
            ]
          },
          "metadata": {},
          "execution_count": 126
        }
      ],
      "source": [
        "df_final"
      ]
    },
    {
      "cell_type": "code",
      "execution_count": null,
      "metadata": {
        "id": "3RgV1gBLisEe",
        "colab": {
          "base_uri": "https://localhost:8080/",
          "height": 419
        },
        "outputId": "6aa1a976-6abd-4044-abd2-4b5e8b0b0780"
      },
      "outputs": [
        {
          "output_type": "execute_result",
          "data": {
            "text/plain": [
              "        support                                           itemsets  length\n",
              "0      0.053649                                 (x0_entertainment)       1\n",
              "1      0.044708                                   (x0_food_dining)       1\n",
              "2      0.093282                                 (x0_gas_transport)       1\n",
              "3      0.182455                                       (x0_grocery)       1\n",
              "4      0.043741                                (x0_health_fitness)       1\n",
              "...         ...                                                ...     ...\n",
              "14584  0.008458  (x6_old, x4_Fraud, x9_Highly Expensive, x5_Aft...       7\n",
              "14585  0.005317  (x8_Moderately Polulated, x7_far away distance...       7\n",
              "14586  0.006525  (x8_Moderately Polulated, x7_moderate distance...       7\n",
              "14587  0.005317  (x6_young, x4_Fraud, x8_Highly Populated, x9_H...       7\n",
              "14588  0.005075  (x6_middle aged, x4_Not a fraud, x8_Highly Pop...       7\n",
              "\n",
              "[14589 rows x 3 columns]"
            ],
            "text/html": [
              "\n",
              "  <div id=\"df-cdf11db8-eb5e-47ea-bd60-04e38bedf476\">\n",
              "    <div class=\"colab-df-container\">\n",
              "      <div>\n",
              "<style scoped>\n",
              "    .dataframe tbody tr th:only-of-type {\n",
              "        vertical-align: middle;\n",
              "    }\n",
              "\n",
              "    .dataframe tbody tr th {\n",
              "        vertical-align: top;\n",
              "    }\n",
              "\n",
              "    .dataframe thead th {\n",
              "        text-align: right;\n",
              "    }\n",
              "</style>\n",
              "<table border=\"1\" class=\"dataframe\">\n",
              "  <thead>\n",
              "    <tr style=\"text-align: right;\">\n",
              "      <th></th>\n",
              "      <th>support</th>\n",
              "      <th>itemsets</th>\n",
              "      <th>length</th>\n",
              "    </tr>\n",
              "  </thead>\n",
              "  <tbody>\n",
              "    <tr>\n",
              "      <th>0</th>\n",
              "      <td>0.053649</td>\n",
              "      <td>(x0_entertainment)</td>\n",
              "      <td>1</td>\n",
              "    </tr>\n",
              "    <tr>\n",
              "      <th>1</th>\n",
              "      <td>0.044708</td>\n",
              "      <td>(x0_food_dining)</td>\n",
              "      <td>1</td>\n",
              "    </tr>\n",
              "    <tr>\n",
              "      <th>2</th>\n",
              "      <td>0.093282</td>\n",
              "      <td>(x0_gas_transport)</td>\n",
              "      <td>1</td>\n",
              "    </tr>\n",
              "    <tr>\n",
              "      <th>3</th>\n",
              "      <td>0.182455</td>\n",
              "      <td>(x0_grocery)</td>\n",
              "      <td>1</td>\n",
              "    </tr>\n",
              "    <tr>\n",
              "      <th>4</th>\n",
              "      <td>0.043741</td>\n",
              "      <td>(x0_health_fitness)</td>\n",
              "      <td>1</td>\n",
              "    </tr>\n",
              "    <tr>\n",
              "      <th>...</th>\n",
              "      <td>...</td>\n",
              "      <td>...</td>\n",
              "      <td>...</td>\n",
              "    </tr>\n",
              "    <tr>\n",
              "      <th>14584</th>\n",
              "      <td>0.008458</td>\n",
              "      <td>(x6_old, x4_Fraud, x9_Highly Expensive, x5_Aft...</td>\n",
              "      <td>7</td>\n",
              "    </tr>\n",
              "    <tr>\n",
              "      <th>14585</th>\n",
              "      <td>0.005317</td>\n",
              "      <td>(x8_Moderately Polulated, x7_far away distance...</td>\n",
              "      <td>7</td>\n",
              "    </tr>\n",
              "    <tr>\n",
              "      <th>14586</th>\n",
              "      <td>0.006525</td>\n",
              "      <td>(x8_Moderately Polulated, x7_moderate distance...</td>\n",
              "      <td>7</td>\n",
              "    </tr>\n",
              "    <tr>\n",
              "      <th>14587</th>\n",
              "      <td>0.005317</td>\n",
              "      <td>(x6_young, x4_Fraud, x8_Highly Populated, x9_H...</td>\n",
              "      <td>7</td>\n",
              "    </tr>\n",
              "    <tr>\n",
              "      <th>14588</th>\n",
              "      <td>0.005075</td>\n",
              "      <td>(x6_middle aged, x4_Not a fraud, x8_Highly Pop...</td>\n",
              "      <td>7</td>\n",
              "    </tr>\n",
              "  </tbody>\n",
              "</table>\n",
              "<p>14589 rows × 3 columns</p>\n",
              "</div>\n",
              "      <button class=\"colab-df-convert\" onclick=\"convertToInteractive('df-cdf11db8-eb5e-47ea-bd60-04e38bedf476')\"\n",
              "              title=\"Convert this dataframe to an interactive table.\"\n",
              "              style=\"display:none;\">\n",
              "        \n",
              "  <svg xmlns=\"http://www.w3.org/2000/svg\" height=\"24px\"viewBox=\"0 0 24 24\"\n",
              "       width=\"24px\">\n",
              "    <path d=\"M0 0h24v24H0V0z\" fill=\"none\"/>\n",
              "    <path d=\"M18.56 5.44l.94 2.06.94-2.06 2.06-.94-2.06-.94-.94-2.06-.94 2.06-2.06.94zm-11 1L8.5 8.5l.94-2.06 2.06-.94-2.06-.94L8.5 2.5l-.94 2.06-2.06.94zm10 10l.94 2.06.94-2.06 2.06-.94-2.06-.94-.94-2.06-.94 2.06-2.06.94z\"/><path d=\"M17.41 7.96l-1.37-1.37c-.4-.4-.92-.59-1.43-.59-.52 0-1.04.2-1.43.59L10.3 9.45l-7.72 7.72c-.78.78-.78 2.05 0 2.83L4 21.41c.39.39.9.59 1.41.59.51 0 1.02-.2 1.41-.59l7.78-7.78 2.81-2.81c.8-.78.8-2.07 0-2.86zM5.41 20L4 18.59l7.72-7.72 1.47 1.35L5.41 20z\"/>\n",
              "  </svg>\n",
              "      </button>\n",
              "      \n",
              "  <style>\n",
              "    .colab-df-container {\n",
              "      display:flex;\n",
              "      flex-wrap:wrap;\n",
              "      gap: 12px;\n",
              "    }\n",
              "\n",
              "    .colab-df-convert {\n",
              "      background-color: #E8F0FE;\n",
              "      border: none;\n",
              "      border-radius: 50%;\n",
              "      cursor: pointer;\n",
              "      display: none;\n",
              "      fill: #1967D2;\n",
              "      height: 32px;\n",
              "      padding: 0 0 0 0;\n",
              "      width: 32px;\n",
              "    }\n",
              "\n",
              "    .colab-df-convert:hover {\n",
              "      background-color: #E2EBFA;\n",
              "      box-shadow: 0px 1px 2px rgba(60, 64, 67, 0.3), 0px 1px 3px 1px rgba(60, 64, 67, 0.15);\n",
              "      fill: #174EA6;\n",
              "    }\n",
              "\n",
              "    [theme=dark] .colab-df-convert {\n",
              "      background-color: #3B4455;\n",
              "      fill: #D2E3FC;\n",
              "    }\n",
              "\n",
              "    [theme=dark] .colab-df-convert:hover {\n",
              "      background-color: #434B5C;\n",
              "      box-shadow: 0px 1px 3px 1px rgba(0, 0, 0, 0.15);\n",
              "      filter: drop-shadow(0px 1px 2px rgba(0, 0, 0, 0.3));\n",
              "      fill: #FFFFFF;\n",
              "    }\n",
              "  </style>\n",
              "\n",
              "      <script>\n",
              "        const buttonEl =\n",
              "          document.querySelector('#df-cdf11db8-eb5e-47ea-bd60-04e38bedf476 button.colab-df-convert');\n",
              "        buttonEl.style.display =\n",
              "          google.colab.kernel.accessAllowed ? 'block' : 'none';\n",
              "\n",
              "        async function convertToInteractive(key) {\n",
              "          const element = document.querySelector('#df-cdf11db8-eb5e-47ea-bd60-04e38bedf476');\n",
              "          const dataTable =\n",
              "            await google.colab.kernel.invokeFunction('convertToInteractive',\n",
              "                                                     [key], {});\n",
              "          if (!dataTable) return;\n",
              "\n",
              "          const docLinkHtml = 'Like what you see? Visit the ' +\n",
              "            '<a target=\"_blank\" href=https://colab.research.google.com/notebooks/data_table.ipynb>data table notebook</a>'\n",
              "            + ' to learn more about interactive tables.';\n",
              "          element.innerHTML = '';\n",
              "          dataTable['output_type'] = 'display_data';\n",
              "          await google.colab.output.renderOutput(dataTable, element);\n",
              "          const docLink = document.createElement('div');\n",
              "          docLink.innerHTML = docLinkHtml;\n",
              "          element.appendChild(docLink);\n",
              "        }\n",
              "      </script>\n",
              "    </div>\n",
              "  </div>\n",
              "  "
            ]
          },
          "metadata": {},
          "execution_count": 139
        }
      ],
      "source": [
        "# importing the required module\n",
        "from mlxtend.frequent_patterns import apriori, association_rules\n",
        "\n",
        "\n",
        "# Extracting the most frequest itemsets via Mlxtend.\n",
        "# The length column has been added to increase ease of filtering.\n",
        "frequent_itemsets = apriori(df_final, min_support=0.005, use_colnames=True)\n",
        "frequent_itemsets['length'] = frequent_itemsets['itemsets'].apply(lambda x: len(x))\n",
        "\n",
        "# printing the frequent itemset\n",
        "frequent_itemsets"
      ]
    },
    {
      "cell_type": "code",
      "execution_count": null,
      "metadata": {
        "colab": {
          "base_uri": "https://localhost:8080/"
        },
        "id": "44JOx_9hmaRR",
        "outputId": "56298a26-b3d2-403b-9235-d77c9c027ae7"
      },
      "outputs": [
        {
          "output_type": "stream",
          "name": "stdout",
          "text": [
            "frozenset({'x6_middle aged', 'x4_Fraud', 'x8_Highly Populated', 'x9_Highly Expensive', 'x5_Afternoon Transaction', 'x0_grocery', 'x1_F'}) 7\n",
            "frozenset({'x6_old', 'x7_far away distance', 'x4_Fraud', 'x9_Highly Expensive', 'x5_Afternoon Transaction', 'x0_grocery', 'x1_F'}) 7\n",
            "frozenset({'x6_old', 'x7_moderate distance', 'x4_Fraud', 'x9_Highly Expensive', 'x5_Afternoon Transaction', 'x0_grocery', 'x1_F'}) 7\n",
            "frozenset({'x6_old', 'x4_Fraud', 'x9_Highly Expensive', 'x5_Afternoon Transaction', 'x0_grocery', 'x7_nearby distance', 'x1_F'}) 7\n",
            "frozenset({'x6_old', 'x4_Fraud', 'x8_Highly Populated', 'x9_Highly Expensive', 'x5_Afternoon Transaction', 'x0_grocery', 'x1_F'}) 7\n",
            "frozenset({'x8_Moderately Polulated', 'x6_old', 'x4_Fraud', 'x9_Highly Expensive', 'x5_Afternoon Transaction', 'x0_grocery', 'x1_F'}) 7\n",
            "frozenset({'x6_old', 'x4_Fraud', 'x9_Highly Expensive', 'x5_Afternoon Transaction', 'x0_grocery', 'x1_F', 'x8_Sparsely Populated '}) 7\n",
            "frozenset({'x7_far away distance', 'x4_Fraud', 'x8_Highly Populated', 'x9_Highly Expensive', 'x5_Afternoon Transaction', 'x0_grocery', 'x1_F'}) 7\n",
            "frozenset({'x7_moderate distance', 'x4_Fraud', 'x8_Highly Populated', 'x9_Highly Expensive', 'x5_Afternoon Transaction', 'x0_grocery', 'x1_F'}) 7\n",
            "frozenset({'x8_Moderately Polulated', 'x7_moderate distance', 'x4_Fraud', 'x9_Highly Expensive', 'x5_Afternoon Transaction', 'x0_grocery', 'x1_F'}) 7\n",
            "frozenset({'x7_moderate distance', 'x4_Fraud', 'x9_Highly Expensive', 'x5_Afternoon Transaction', 'x0_grocery', 'x1_F', 'x8_Sparsely Populated '}) 7\n",
            "frozenset({'x4_Fraud', 'x8_Highly Populated', 'x9_Highly Expensive', 'x5_Afternoon Transaction', 'x0_grocery', 'x7_nearby distance', 'x1_F'}) 7\n",
            "frozenset({'x8_Moderately Polulated', 'x6_middle aged', 'x4_Fraud', 'x9_Highly Expensive', 'x5_Afternoon Transaction', 'x0_grocery', 'x1_M'}) 7\n",
            "frozenset({'x6_old', 'x7_far away distance', 'x4_Fraud', 'x9_Highly Expensive', 'x5_Afternoon Transaction', 'x0_grocery', 'x1_M'}) 7\n",
            "frozenset({'x6_old', 'x7_moderate distance', 'x4_Fraud', 'x9_Highly Expensive', 'x5_Afternoon Transaction', 'x0_grocery', 'x1_M'}) 7\n",
            "frozenset({'x6_old', 'x4_Fraud', 'x9_Highly Expensive', 'x5_Afternoon Transaction', 'x0_grocery', 'x7_nearby distance', 'x1_M'}) 7\n",
            "frozenset({'x6_old', 'x4_Fraud', 'x8_Highly Populated', 'x9_Highly Expensive', 'x5_Afternoon Transaction', 'x0_grocery', 'x1_M'}) 7\n",
            "frozenset({'x8_Moderately Polulated', 'x6_old', 'x4_Fraud', 'x9_Highly Expensive', 'x5_Afternoon Transaction', 'x0_grocery', 'x1_M'}) 7\n",
            "frozenset({'x6_old', 'x4_Fraud', 'x9_Highly Expensive', 'x5_Afternoon Transaction', 'x0_grocery', 'x8_Sparsely Populated ', 'x1_M'}) 7\n",
            "frozenset({'x6_young', 'x4_Fraud', 'x8_Highly Populated', 'x9_Highly Expensive', 'x5_Afternoon Transaction', 'x0_grocery', 'x1_M'}) 7\n",
            "frozenset({'x7_far away distance', 'x4_Fraud', 'x8_Highly Populated', 'x9_Highly Expensive', 'x5_Afternoon Transaction', 'x0_grocery', 'x1_M'}) 7\n",
            "frozenset({'x8_Moderately Polulated', 'x7_far away distance', 'x4_Fraud', 'x9_Highly Expensive', 'x5_Afternoon Transaction', 'x0_grocery', 'x1_M'}) 7\n",
            "frozenset({'x7_far away distance', 'x4_Fraud', 'x9_Highly Expensive', 'x5_Afternoon Transaction', 'x0_grocery', 'x8_Sparsely Populated ', 'x1_M'}) 7\n",
            "frozenset({'x7_moderate distance', 'x4_Fraud', 'x8_Highly Populated', 'x9_Highly Expensive', 'x5_Afternoon Transaction', 'x0_grocery', 'x1_M'}) 7\n",
            "frozenset({'x8_Moderately Polulated', 'x7_moderate distance', 'x4_Fraud', 'x9_Highly Expensive', 'x5_Afternoon Transaction', 'x0_grocery', 'x1_M'}) 7\n",
            "frozenset({'x4_Fraud', 'x8_Highly Populated', 'x9_Highly Expensive', 'x5_Afternoon Transaction', 'x0_grocery', 'x7_nearby distance', 'x1_M'}) 7\n",
            "frozenset({'x8_Moderately Polulated', 'x4_Fraud', 'x9_Highly Expensive', 'x5_Afternoon Transaction', 'x0_grocery', 'x7_nearby distance', 'x1_M'}) 7\n",
            "frozenset({'x6_old', 'x7_far away distance', 'x4_Fraud', 'x8_Highly Populated', 'x9_Highly Expensive', 'x5_Afternoon Transaction', 'x0_grocery'}) 7\n",
            "frozenset({'x8_Moderately Polulated', 'x6_old', 'x7_far away distance', 'x4_Fraud', 'x9_Highly Expensive', 'x5_Afternoon Transaction', 'x0_grocery'}) 7\n",
            "frozenset({'x6_old', 'x7_far away distance', 'x4_Fraud', 'x9_Highly Expensive', 'x5_Afternoon Transaction', 'x0_grocery', 'x8_Sparsely Populated '}) 7\n",
            "frozenset({'x6_old', 'x7_moderate distance', 'x4_Fraud', 'x8_Highly Populated', 'x9_Highly Expensive', 'x5_Afternoon Transaction', 'x0_grocery'}) 7\n",
            "frozenset({'x6_old', 'x7_moderate distance', 'x4_Fraud', 'x9_Highly Expensive', 'x5_Afternoon Transaction', 'x0_grocery', 'x8_Sparsely Populated '}) 7\n",
            "frozenset({'x6_old', 'x4_Fraud', 'x8_Highly Populated', 'x9_Highly Expensive', 'x5_Afternoon Transaction', 'x0_grocery', 'x7_nearby distance'}) 7\n",
            "frozenset({'x6_old', 'x4_Fraud', 'x8_Highly Populated', 'x0_misc', 'x9_Highly Expensive', 'x5_Afternoon Transaction', 'x1_F'}) 7\n",
            "frozenset({'x8_Moderately Polulated', 'x6_middle aged', 'x4_Fraud', 'x0_misc', 'x9_Highly Expensive', 'x5_Afternoon Transaction', 'x1_M'}) 7\n",
            "frozenset({'x6_old', 'x4_Fraud', 'x0_misc', 'x9_Highly Expensive', 'x5_Afternoon Transaction', 'x7_nearby distance', 'x1_M'}) 7\n",
            "frozenset({'x0_shopping_net', 'x6_middle aged', 'x4_Fraud', 'x9_Highly Expensive', 'x5_Afternoon Transaction', 'x7_nearby distance', 'x1_F'}) 7\n",
            "frozenset({'x0_shopping_net', 'x6_old', 'x7_far away distance', 'x4_Fraud', 'x9_Highly Expensive', 'x5_Afternoon Transaction', 'x1_F'}) 7\n",
            "frozenset({'x0_shopping_net', 'x6_old', 'x7_moderate distance', 'x4_Fraud', 'x9_Highly Expensive', 'x5_Afternoon Transaction', 'x1_F'}) 7\n",
            "frozenset({'x0_shopping_net', 'x6_old', 'x4_Fraud', 'x9_Highly Expensive', 'x5_Afternoon Transaction', 'x7_nearby distance', 'x1_F'}) 7\n",
            "frozenset({'x0_shopping_net', 'x6_old', 'x4_Fraud', 'x8_Highly Populated', 'x9_Highly Expensive', 'x5_Afternoon Transaction', 'x1_F'}) 7\n",
            "frozenset({'x0_shopping_net', 'x8_Moderately Polulated', 'x6_old', 'x4_Fraud', 'x9_Highly Expensive', 'x5_Afternoon Transaction', 'x1_F'}) 7\n",
            "frozenset({'x0_shopping_net', 'x6_old', 'x4_Fraud', 'x9_Highly Expensive', 'x5_Afternoon Transaction', 'x1_F', 'x8_Sparsely Populated '}) 7\n",
            "frozenset({'x0_shopping_net', 'x7_far away distance', 'x4_Fraud', 'x8_Highly Populated', 'x9_Highly Expensive', 'x5_Afternoon Transaction', 'x1_F'}) 7\n",
            "frozenset({'x0_shopping_net', 'x8_Moderately Polulated', 'x7_far away distance', 'x4_Fraud', 'x9_Highly Expensive', 'x5_Afternoon Transaction', 'x1_F'}) 7\n",
            "frozenset({'x0_shopping_net', 'x4_Fraud', 'x8_Highly Populated', 'x9_Highly Expensive', 'x5_Afternoon Transaction', 'x7_nearby distance', 'x1_F'}) 7\n",
            "frozenset({'x0_shopping_net', 'x8_Moderately Polulated', 'x4_Fraud', 'x9_Highly Expensive', 'x5_Afternoon Transaction', 'x7_nearby distance', 'x1_F'}) 7\n",
            "frozenset({'x0_shopping_net', 'x6_old', 'x7_far away distance', 'x8_Highly Populated', 'x9_Highly Expensive', 'x4_Fraud', 'x1_F'}) 7\n",
            "frozenset({'x0_shopping_net', 'x6_middle aged', 'x7_far away distance', 'x4_Fraud', 'x9_Highly Expensive', 'x5_Afternoon Transaction', 'x1_M'}) 7\n",
            "frozenset({'x0_shopping_net', 'x6_middle aged', 'x7_moderate distance', 'x4_Fraud', 'x9_Highly Expensive', 'x5_Afternoon Transaction', 'x1_M'}) 7\n",
            "frozenset({'x0_shopping_net', 'x6_middle aged', 'x4_Fraud', 'x9_Highly Expensive', 'x5_Afternoon Transaction', 'x7_nearby distance', 'x1_M'}) 7\n",
            "frozenset({'x0_shopping_net', 'x8_Moderately Polulated', 'x6_middle aged', 'x4_Fraud', 'x9_Highly Expensive', 'x5_Afternoon Transaction', 'x1_M'}) 7\n",
            "frozenset({'x0_shopping_net', 'x6_old', 'x7_far away distance', 'x4_Fraud', 'x9_Highly Expensive', 'x5_Afternoon Transaction', 'x1_M'}) 7\n",
            "frozenset({'x0_shopping_net', 'x6_old', 'x7_moderate distance', 'x4_Fraud', 'x9_Highly Expensive', 'x5_Afternoon Transaction', 'x1_M'}) 7\n",
            "frozenset({'x0_shopping_net', 'x6_old', 'x4_Fraud', 'x9_Highly Expensive', 'x5_Afternoon Transaction', 'x7_nearby distance', 'x1_M'}) 7\n",
            "frozenset({'x0_shopping_net', 'x6_old', 'x4_Fraud', 'x8_Highly Populated', 'x9_Highly Expensive', 'x5_Afternoon Transaction', 'x1_M'}) 7\n",
            "frozenset({'x0_shopping_net', 'x8_Moderately Polulated', 'x6_old', 'x4_Fraud', 'x9_Highly Expensive', 'x5_Afternoon Transaction', 'x1_M'}) 7\n",
            "frozenset({'x0_shopping_net', 'x6_old', 'x4_Fraud', 'x9_Highly Expensive', 'x5_Afternoon Transaction', 'x8_Sparsely Populated ', 'x1_M'}) 7\n",
            "frozenset({'x0_shopping_net', 'x8_Moderately Polulated', 'x6_young', 'x4_Fraud', 'x9_Highly Expensive', 'x5_Afternoon Transaction', 'x1_M'}) 7\n",
            "frozenset({'x0_shopping_net', 'x7_far away distance', 'x4_Fraud', 'x8_Highly Populated', 'x9_Highly Expensive', 'x5_Afternoon Transaction', 'x1_M'}) 7\n",
            "frozenset({'x0_shopping_net', 'x8_Moderately Polulated', 'x7_far away distance', 'x4_Fraud', 'x9_Highly Expensive', 'x5_Afternoon Transaction', 'x1_M'}) 7\n",
            "frozenset({'x0_shopping_net', 'x7_moderate distance', 'x4_Fraud', 'x8_Highly Populated', 'x9_Highly Expensive', 'x5_Afternoon Transaction', 'x1_M'}) 7\n",
            "frozenset({'x0_shopping_net', 'x8_Moderately Polulated', 'x7_moderate distance', 'x4_Fraud', 'x9_Highly Expensive', 'x5_Afternoon Transaction', 'x1_M'}) 7\n",
            "frozenset({'x0_shopping_net', 'x4_Fraud', 'x8_Highly Populated', 'x9_Highly Expensive', 'x5_Afternoon Transaction', 'x7_nearby distance', 'x1_M'}) 7\n",
            "frozenset({'x0_shopping_net', 'x8_Moderately Polulated', 'x4_Fraud', 'x9_Highly Expensive', 'x5_Afternoon Transaction', 'x7_nearby distance', 'x1_M'}) 7\n",
            "frozenset({'x0_shopping_net', 'x8_Moderately Polulated', 'x7_moderate distance', 'x6_middle aged', 'x9_Highly Expensive', 'x4_Fraud', 'x1_M'}) 7\n",
            "frozenset({'x0_shopping_net', 'x8_Moderately Polulated', 'x7_moderate distance', 'x6_middle aged', 'x4_Fraud', 'x9_Highly Expensive', 'x5_Afternoon Transaction'}) 7\n",
            "frozenset({'x0_shopping_net', 'x6_old', 'x7_far away distance', 'x4_Fraud', 'x8_Highly Populated', 'x9_Highly Expensive', 'x5_Afternoon Transaction'}) 7\n",
            "frozenset({'x0_shopping_net', 'x8_Moderately Polulated', 'x6_old', 'x7_far away distance', 'x4_Fraud', 'x9_Highly Expensive', 'x5_Afternoon Transaction'}) 7\n",
            "frozenset({'x0_shopping_net', 'x6_old', 'x7_moderate distance', 'x4_Fraud', 'x8_Highly Populated', 'x9_Highly Expensive', 'x5_Afternoon Transaction'}) 7\n",
            "frozenset({'x0_shopping_net', 'x6_old', 'x4_Fraud', 'x8_Highly Populated', 'x9_Highly Expensive', 'x5_Afternoon Transaction', 'x7_nearby distance'}) 7\n",
            "frozenset({'x0_shopping_net', 'x8_Moderately Polulated', 'x6_old', 'x4_Fraud', 'x9_Highly Expensive', 'x5_Afternoon Transaction', 'x7_nearby distance'}) 7\n",
            "frozenset({'x6_old', 'x2_NY', 'x4_Fraud', 'x8_Highly Populated', 'x9_Highly Expensive', 'x5_Afternoon Transaction', 'x1_F'}) 7\n",
            "frozenset({'x6_middle aged', 'x7_far away distance', 'x4_Fraud', 'x8_Highly Populated', 'x9_Highly Expensive', 'x5_Afternoon Transaction', 'x1_F'}) 7\n",
            "frozenset({'x8_Moderately Polulated', 'x6_middle aged', 'x7_far away distance', 'x4_Fraud', 'x9_Highly Expensive', 'x5_Afternoon Transaction', 'x1_F'}) 7\n",
            "frozenset({'x7_moderate distance', 'x6_middle aged', 'x4_Fraud', 'x8_Highly Populated', 'x9_Highly Expensive', 'x5_Afternoon Transaction', 'x1_F'}) 7\n",
            "frozenset({'x8_Moderately Polulated', 'x7_moderate distance', 'x6_middle aged', 'x4_Fraud', 'x9_Highly Expensive', 'x5_Afternoon Transaction', 'x1_F'}) 7\n",
            "frozenset({'x7_moderate distance', 'x6_middle aged', 'x4_Fraud', 'x9_Highly Expensive', 'x5_Afternoon Transaction', 'x1_F', 'x8_Sparsely Populated '}) 7\n",
            "frozenset({'x6_middle aged', 'x4_Fraud', 'x8_Highly Populated', 'x9_Highly Expensive', 'x5_Afternoon Transaction', 'x7_nearby distance', 'x1_F'}) 7\n",
            "frozenset({'x8_Moderately Polulated', 'x6_middle aged', 'x4_Fraud', 'x9_Highly Expensive', 'x5_Afternoon Transaction', 'x7_nearby distance', 'x1_F'}) 7\n",
            "frozenset({'x6_middle aged', 'x4_Fraud', 'x9_Highly Expensive', 'x5_Afternoon Transaction', 'x7_nearby distance', 'x1_F', 'x8_Sparsely Populated '}) 7\n",
            "frozenset({'x6_old', 'x7_far away distance', 'x4_Fraud', 'x8_Highly Populated', 'x9_Highly Expensive', 'x5_Afternoon Transaction', 'x1_F'}) 7\n",
            "frozenset({'x8_Moderately Polulated', 'x6_old', 'x7_far away distance', 'x4_Fraud', 'x9_Highly Expensive', 'x5_Afternoon Transaction', 'x1_F'}) 7\n",
            "frozenset({'x6_old', 'x7_far away distance', 'x4_Fraud', 'x9_Highly Expensive', 'x5_Afternoon Transaction', 'x1_F', 'x8_Sparsely Populated '}) 7\n",
            "frozenset({'x6_old', 'x7_moderate distance', 'x4_Fraud', 'x8_Highly Populated', 'x9_Highly Expensive', 'x5_Afternoon Transaction', 'x1_F'}) 7\n",
            "frozenset({'x8_Moderately Polulated', 'x6_old', 'x7_moderate distance', 'x4_Fraud', 'x9_Highly Expensive', 'x5_Afternoon Transaction', 'x1_F'}) 7\n",
            "frozenset({'x6_old', 'x7_moderate distance', 'x4_Fraud', 'x9_Highly Expensive', 'x5_Afternoon Transaction', 'x1_F', 'x8_Sparsely Populated '}) 7\n",
            "frozenset({'x6_old', 'x4_Fraud', 'x8_Highly Populated', 'x9_Highly Expensive', 'x5_Afternoon Transaction', 'x7_nearby distance', 'x1_F'}) 7\n",
            "frozenset({'x8_Moderately Polulated', 'x6_old', 'x4_Fraud', 'x9_Highly Expensive', 'x5_Afternoon Transaction', 'x7_nearby distance', 'x1_F'}) 7\n",
            "frozenset({'x6_old', 'x4_Fraud', 'x9_Highly Expensive', 'x5_Afternoon Transaction', 'x7_nearby distance', 'x1_F', 'x8_Sparsely Populated '}) 7\n",
            "frozenset({'x7_far away distance', 'x6_young', 'x4_Fraud', 'x9_Highly Expensive', 'x5_Afternoon Transaction', 'x1_F', 'x8_Sparsely Populated '}) 7\n",
            "frozenset({'x8_Moderately Polulated', 'x7_moderate distance', 'x6_young', 'x4_Fraud', 'x9_Highly Expensive', 'x5_Afternoon Transaction', 'x1_F'}) 7\n",
            "frozenset({'x8_Moderately Polulated', 'x6_middle aged', 'x2_MN', 'x4_Fraud', 'x9_Highly Expensive', 'x5_Afternoon Transaction', 'x1_M'}) 7\n",
            "frozenset({'x8_Moderately Polulated', 'x6_middle aged', 'x7_far away distance', 'x4_Fraud', 'x9_Highly Expensive', 'x5_Afternoon Transaction', 'x1_M'}) 7\n",
            "frozenset({'x8_Moderately Polulated', 'x7_moderate distance', 'x6_middle aged', 'x4_Fraud', 'x9_Highly Expensive', 'x5_Afternoon Transaction', 'x1_M'}) 7\n",
            "frozenset({'x8_Moderately Polulated', 'x6_middle aged', 'x4_Fraud', 'x9_Highly Expensive', 'x5_Afternoon Transaction', 'x7_nearby distance', 'x1_M'}) 7\n",
            "frozenset({'x6_old', 'x7_far away distance', 'x4_Fraud', 'x8_Highly Populated', 'x9_Highly Expensive', 'x5_Afternoon Transaction', 'x1_M'}) 7\n",
            "frozenset({'x8_Moderately Polulated', 'x6_old', 'x7_far away distance', 'x4_Fraud', 'x9_Highly Expensive', 'x5_Afternoon Transaction', 'x1_M'}) 7\n",
            "frozenset({'x6_old', 'x7_far away distance', 'x4_Fraud', 'x9_Highly Expensive', 'x5_Afternoon Transaction', 'x8_Sparsely Populated ', 'x1_M'}) 7\n",
            "frozenset({'x6_old', 'x7_moderate distance', 'x4_Fraud', 'x8_Highly Populated', 'x9_Highly Expensive', 'x5_Afternoon Transaction', 'x1_M'}) 7\n",
            "frozenset({'x8_Moderately Polulated', 'x6_old', 'x7_moderate distance', 'x4_Fraud', 'x9_Highly Expensive', 'x5_Afternoon Transaction', 'x1_M'}) 7\n",
            "frozenset({'x6_old', 'x7_moderate distance', 'x4_Fraud', 'x9_Highly Expensive', 'x5_Afternoon Transaction', 'x8_Sparsely Populated ', 'x1_M'}) 7\n",
            "frozenset({'x6_old', 'x4_Fraud', 'x8_Highly Populated', 'x9_Highly Expensive', 'x5_Afternoon Transaction', 'x7_nearby distance', 'x1_M'}) 7\n",
            "frozenset({'x8_Moderately Polulated', 'x6_old', 'x4_Fraud', 'x9_Highly Expensive', 'x5_Afternoon Transaction', 'x7_nearby distance', 'x1_M'}) 7\n",
            "frozenset({'x6_old', 'x4_Fraud', 'x9_Highly Expensive', 'x5_Afternoon Transaction', 'x7_nearby distance', 'x8_Sparsely Populated ', 'x1_M'}) 7\n",
            "frozenset({'x8_Moderately Polulated', 'x7_far away distance', 'x6_young', 'x4_Fraud', 'x9_Highly Expensive', 'x5_Afternoon Transaction', 'x1_M'}) 7\n",
            "frozenset({'x8_Moderately Polulated', 'x7_moderate distance', 'x6_young', 'x4_Fraud', 'x9_Highly Expensive', 'x5_Afternoon Transaction', 'x1_M'}) 7\n",
            "frozenset({'x6_young', 'x4_Fraud', 'x8_Highly Populated', 'x9_Highly Expensive', 'x5_Afternoon Transaction', 'x7_nearby distance', 'x1_M'}) 7\n"
          ]
        }
      ],
      "source": [
        "for i in range(len(frequent_itemsets)):\n",
        "  if 'x4_Fraud' in frequent_itemsets['itemsets'][i]:\n",
        "    if frequent_itemsets['length'][i] > 6:\n",
        "      print(frequent_itemsets['itemsets'][i],frequent_itemsets['length'][i])"
      ]
    },
    {
      "cell_type": "code",
      "execution_count": null,
      "metadata": {
        "id": "tGcekQun_bwN",
        "colab": {
          "base_uri": "https://localhost:8080/",
          "height": 419
        },
        "outputId": "2b119012-6af7-49a0-f533-69602a628b02"
      },
      "outputs": [
        {
          "output_type": "execute_result",
          "data": {
            "text/plain": [
              "       support                                           itemsets\n",
              "0     0.053649                                 (x0_entertainment)\n",
              "1     0.044708                                   (x0_food_dining)\n",
              "2     0.093282                                 (x0_gas_transport)\n",
              "3     0.182455                                       (x0_grocery)\n",
              "4     0.043741                                (x0_health_fitness)\n",
              "...        ...                                                ...\n",
              "5911  0.011116  (x6_old, x7_far away distance, x4_Fraud, x8_Hi...\n",
              "5912  0.011600  (x8_Moderately Polulated, x6_old, x7_far away ...\n",
              "5913  0.010633  (x6_old, x4_Fraud, x8_Highly Populated, x9_Hig...\n",
              "5914  0.010391  (x8_Moderately Polulated, x7_moderate distance...\n",
              "5915  0.011116  (x6_old, x7_far away distance, x4_Fraud, x8_Hi...\n",
              "\n",
              "[5916 rows x 2 columns]"
            ],
            "text/html": [
              "\n",
              "  <div id=\"df-f86be24c-e202-4a26-a351-788aebdcff3f\">\n",
              "    <div class=\"colab-df-container\">\n",
              "      <div>\n",
              "<style scoped>\n",
              "    .dataframe tbody tr th:only-of-type {\n",
              "        vertical-align: middle;\n",
              "    }\n",
              "\n",
              "    .dataframe tbody tr th {\n",
              "        vertical-align: top;\n",
              "    }\n",
              "\n",
              "    .dataframe thead th {\n",
              "        text-align: right;\n",
              "    }\n",
              "</style>\n",
              "<table border=\"1\" class=\"dataframe\">\n",
              "  <thead>\n",
              "    <tr style=\"text-align: right;\">\n",
              "      <th></th>\n",
              "      <th>support</th>\n",
              "      <th>itemsets</th>\n",
              "    </tr>\n",
              "  </thead>\n",
              "  <tbody>\n",
              "    <tr>\n",
              "      <th>0</th>\n",
              "      <td>0.053649</td>\n",
              "      <td>(x0_entertainment)</td>\n",
              "    </tr>\n",
              "    <tr>\n",
              "      <th>1</th>\n",
              "      <td>0.044708</td>\n",
              "      <td>(x0_food_dining)</td>\n",
              "    </tr>\n",
              "    <tr>\n",
              "      <th>2</th>\n",
              "      <td>0.093282</td>\n",
              "      <td>(x0_gas_transport)</td>\n",
              "    </tr>\n",
              "    <tr>\n",
              "      <th>3</th>\n",
              "      <td>0.182455</td>\n",
              "      <td>(x0_grocery)</td>\n",
              "    </tr>\n",
              "    <tr>\n",
              "      <th>4</th>\n",
              "      <td>0.043741</td>\n",
              "      <td>(x0_health_fitness)</td>\n",
              "    </tr>\n",
              "    <tr>\n",
              "      <th>...</th>\n",
              "      <td>...</td>\n",
              "      <td>...</td>\n",
              "    </tr>\n",
              "    <tr>\n",
              "      <th>5911</th>\n",
              "      <td>0.011116</td>\n",
              "      <td>(x6_old, x7_far away distance, x4_Fraud, x8_Hi...</td>\n",
              "    </tr>\n",
              "    <tr>\n",
              "      <th>5912</th>\n",
              "      <td>0.011600</td>\n",
              "      <td>(x8_Moderately Polulated, x6_old, x7_far away ...</td>\n",
              "    </tr>\n",
              "    <tr>\n",
              "      <th>5913</th>\n",
              "      <td>0.010633</td>\n",
              "      <td>(x6_old, x4_Fraud, x8_Highly Populated, x9_Hig...</td>\n",
              "    </tr>\n",
              "    <tr>\n",
              "      <th>5914</th>\n",
              "      <td>0.010391</td>\n",
              "      <td>(x8_Moderately Polulated, x7_moderate distance...</td>\n",
              "    </tr>\n",
              "    <tr>\n",
              "      <th>5915</th>\n",
              "      <td>0.011116</td>\n",
              "      <td>(x6_old, x7_far away distance, x4_Fraud, x8_Hi...</td>\n",
              "    </tr>\n",
              "  </tbody>\n",
              "</table>\n",
              "<p>5916 rows × 2 columns</p>\n",
              "</div>\n",
              "      <button class=\"colab-df-convert\" onclick=\"convertToInteractive('df-f86be24c-e202-4a26-a351-788aebdcff3f')\"\n",
              "              title=\"Convert this dataframe to an interactive table.\"\n",
              "              style=\"display:none;\">\n",
              "        \n",
              "  <svg xmlns=\"http://www.w3.org/2000/svg\" height=\"24px\"viewBox=\"0 0 24 24\"\n",
              "       width=\"24px\">\n",
              "    <path d=\"M0 0h24v24H0V0z\" fill=\"none\"/>\n",
              "    <path d=\"M18.56 5.44l.94 2.06.94-2.06 2.06-.94-2.06-.94-.94-2.06-.94 2.06-2.06.94zm-11 1L8.5 8.5l.94-2.06 2.06-.94-2.06-.94L8.5 2.5l-.94 2.06-2.06.94zm10 10l.94 2.06.94-2.06 2.06-.94-2.06-.94-.94-2.06-.94 2.06-2.06.94z\"/><path d=\"M17.41 7.96l-1.37-1.37c-.4-.4-.92-.59-1.43-.59-.52 0-1.04.2-1.43.59L10.3 9.45l-7.72 7.72c-.78.78-.78 2.05 0 2.83L4 21.41c.39.39.9.59 1.41.59.51 0 1.02-.2 1.41-.59l7.78-7.78 2.81-2.81c.8-.78.8-2.07 0-2.86zM5.41 20L4 18.59l7.72-7.72 1.47 1.35L5.41 20z\"/>\n",
              "  </svg>\n",
              "      </button>\n",
              "      \n",
              "  <style>\n",
              "    .colab-df-container {\n",
              "      display:flex;\n",
              "      flex-wrap:wrap;\n",
              "      gap: 12px;\n",
              "    }\n",
              "\n",
              "    .colab-df-convert {\n",
              "      background-color: #E8F0FE;\n",
              "      border: none;\n",
              "      border-radius: 50%;\n",
              "      cursor: pointer;\n",
              "      display: none;\n",
              "      fill: #1967D2;\n",
              "      height: 32px;\n",
              "      padding: 0 0 0 0;\n",
              "      width: 32px;\n",
              "    }\n",
              "\n",
              "    .colab-df-convert:hover {\n",
              "      background-color: #E2EBFA;\n",
              "      box-shadow: 0px 1px 2px rgba(60, 64, 67, 0.3), 0px 1px 3px 1px rgba(60, 64, 67, 0.15);\n",
              "      fill: #174EA6;\n",
              "    }\n",
              "\n",
              "    [theme=dark] .colab-df-convert {\n",
              "      background-color: #3B4455;\n",
              "      fill: #D2E3FC;\n",
              "    }\n",
              "\n",
              "    [theme=dark] .colab-df-convert:hover {\n",
              "      background-color: #434B5C;\n",
              "      box-shadow: 0px 1px 3px 1px rgba(0, 0, 0, 0.15);\n",
              "      filter: drop-shadow(0px 1px 2px rgba(0, 0, 0, 0.3));\n",
              "      fill: #FFFFFF;\n",
              "    }\n",
              "  </style>\n",
              "\n",
              "      <script>\n",
              "        const buttonEl =\n",
              "          document.querySelector('#df-f86be24c-e202-4a26-a351-788aebdcff3f button.colab-df-convert');\n",
              "        buttonEl.style.display =\n",
              "          google.colab.kernel.accessAllowed ? 'block' : 'none';\n",
              "\n",
              "        async function convertToInteractive(key) {\n",
              "          const element = document.querySelector('#df-f86be24c-e202-4a26-a351-788aebdcff3f');\n",
              "          const dataTable =\n",
              "            await google.colab.kernel.invokeFunction('convertToInteractive',\n",
              "                                                     [key], {});\n",
              "          if (!dataTable) return;\n",
              "\n",
              "          const docLinkHtml = 'Like what you see? Visit the ' +\n",
              "            '<a target=\"_blank\" href=https://colab.research.google.com/notebooks/data_table.ipynb>data table notebook</a>'\n",
              "            + ' to learn more about interactive tables.';\n",
              "          element.innerHTML = '';\n",
              "          dataTable['output_type'] = 'display_data';\n",
              "          await google.colab.output.renderOutput(dataTable, element);\n",
              "          const docLink = document.createElement('div');\n",
              "          docLink.innerHTML = docLinkHtml;\n",
              "          element.appendChild(docLink);\n",
              "        }\n",
              "      </script>\n",
              "    </div>\n",
              "  </div>\n",
              "  "
            ]
          },
          "metadata": {},
          "execution_count": 154
        }
      ],
      "source": [
        "frequent_itemsets = apriori(df_final, min_support=0.01, use_colnames=True)\n",
        "frequent_itemsets"
      ]
    },
    {
      "cell_type": "code",
      "execution_count": null,
      "metadata": {
        "id": "aaMvYvkPmyni"
      },
      "outputs": [],
      "source": [
        "rules = association_rules(frequent_itemsets, metric=\"support\", min_threshold=0.005)\n",
        "rules.to_csv('out.csv', index=False)"
      ]
    },
    {
      "cell_type": "code",
      "source": [],
      "metadata": {
        "id": "uo0pk38oVvkV"
      },
      "execution_count": null,
      "outputs": []
    }
  ],
  "metadata": {
    "colab": {
      "provenance": []
    },
    "kernelspec": {
      "display_name": "Python 3",
      "name": "python3"
    },
    "language_info": {
      "name": "python"
    }
  },
  "nbformat": 4,
  "nbformat_minor": 0
}